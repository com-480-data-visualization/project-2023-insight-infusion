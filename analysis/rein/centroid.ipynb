{
 "cells": [
  {
   "cell_type": "code",
   "execution_count": 1,
   "metadata": {},
   "outputs": [],
   "source": [
    "from shapely.geometry import Polygon\n",
    "import json"
   ]
  },
  {
   "cell_type": "code",
   "execution_count": 2,
   "metadata": {},
   "outputs": [],
   "source": [
    "# assuming geojson_data is your list of geojson features\n",
    "with open('dataset/world.geojson', 'r') as f:\n",
    "    geojson_data = json.load(f)"
   ]
  },
  {
   "cell_type": "code",
   "execution_count": 21,
   "metadata": {},
   "outputs": [],
   "source": [
    "from operator import itemgetter\n",
    "centroid_dict = {}\n",
    "for country in geojson_data['features']:\n",
    "    name = country[\"properties\"][\"name\"]\n",
    "    type = country[\"geometry\"][\"type\"]\n",
    "    if type == 'Polygon':\n",
    "      coordinates = country[\"geometry\"][\"coordinates\"][0]\n",
    "    elif type == 'MultiPolygon':\n",
    "      # select the polygon which has the most number of points\n",
    "      lengths = [len(x[0]) for x in country[\"geometry\"][\"coordinates\"]]\n",
    "      index, element = max(enumerate(lengths), key=itemgetter(1))\n",
    "      \n",
    "      coordinates = country[\"geometry\"][\"coordinates\"][index][0]\n",
    "    else:\n",
    "      print(\"Error: \", name)\n",
    "      continue\n",
    "    polygon = Polygon(coordinates)\n",
    "    center = polygon.representative_point()\n",
    "    centroid_dict[name] = (center.x, center.y)"
   ]
  },
  {
   "cell_type": "code",
   "execution_count": 22,
   "metadata": {},
   "outputs": [],
   "source": [
    "with open('dataset/country_centroid.json', 'w') as f:\n",
    "    json.dump(centroid_dict, f)"
   ]
  }
 ],
 "metadata": {
  "kernelspec": {
   "display_name": "Python 3",
   "language": "python",
   "name": "python3"
  },
  "language_info": {
   "codemirror_mode": {
    "name": "ipython",
    "version": 3
   },
   "file_extension": ".py",
   "mimetype": "text/x-python",
   "name": "python",
   "nbconvert_exporter": "python",
   "pygments_lexer": "ipython3",
   "version": "3.7.8"
  },
  "orig_nbformat": 4
 },
 "nbformat": 4,
 "nbformat_minor": 2
}
