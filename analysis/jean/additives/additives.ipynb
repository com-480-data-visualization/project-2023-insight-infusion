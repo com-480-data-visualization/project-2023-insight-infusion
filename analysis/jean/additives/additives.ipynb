{
 "cells": [
  {
   "cell_type": "code",
   "execution_count": 1,
   "metadata": {},
   "outputs": [],
   "source": [
    "import pandas as pd\n",
    "import json\n",
    "pd.set_option('display.max_colwidth', None)\n",
    "pd.set_option('display.min_rows', 60)\n",
    "\n",
    "import matplotlib.pylab as plt\n",
    "import numpy as np\n",
    "from sklearn.linear_model import LinearRegression\n",
    "from sklearn.metrics import r2_score"
   ]
  },
  {
   "attachments": {},
   "cell_type": "markdown",
   "metadata": {},
   "source": [
    "- https://www.who.int/news-room/fact-sheets/detail/food-additives\n",
    "- https://en.wikipedia.org/wiki/Food_additive\n",
    "- https://www.fda.gov/food/food-ingredients-packaging/overview-food-ingredients-additives-colors\n",
    "- https://food.ec.europa.eu/safety/food-improvement-agents/additives_en\n",
    "- https://www.food.gov.uk/safety-hygiene/food-additives\n",
    "\n",
    "Food additives are substances added to food products during the production process to enhance their taste, appearance, texture, and shelf life. These substances can be natural or synthetic and are used in varying amounts, depending on the type of food product and the desired effect.\n",
    "\n",
    "Some common types of food additives include preservatives, sweeteners, colorings, flavorings, thickeners, emulsifiers, and stabilizers. Preservatives are used to prevent spoilage and extend the shelf life of food products, while sweeteners are used to add sweetness without adding calories. Colorings are added to enhance the appearance of food products, while flavorings are added to enhance the taste. Thickeners, emulsifiers, and stabilizers are used to give food products a certain texture or consistency.\n",
    "\n",
    "While many food additives are considered safe, some may have potential health risks, particularly when consumed in large amounts or by people with specific health conditions. As a result, food additives are closely regulated by food safety authorities in many countries.\n",
    "\n",
    "(by ChatGPT)\n",
    "\n",
    "Quel additif est le plus souvent avec quel autre (force-directed graph)"
   ]
  },
  {
   "cell_type": "code",
   "execution_count": 2,
   "metadata": {},
   "outputs": [
    {
     "name": "stderr",
     "output_type": "stream",
     "text": [
      "/var/folders/fw/8nv4kg9x2zldk0jghwxdl49r0000gn/T/ipykernel_62069/487426014.py:2: DtypeWarning: Columns (0) have mixed types. Specify dtype option on import or set low_memory=False.\n",
      "  df = pd.read_csv(FILENAME)\n"
     ]
    }
   ],
   "source": [
    "FILENAME = '../../../datasets/products_0.995_cleaned.csv'\n",
    "df = pd.read_csv(FILENAME)"
   ]
  },
  {
   "attachments": {},
   "cell_type": "markdown",
   "metadata": {},
   "source": [
    "## Adding additives dangerousness (`additives_max_dangerousness`)"
   ]
  },
  {
   "cell_type": "code",
   "execution_count": 3,
   "metadata": {},
   "outputs": [],
   "source": [
    "from collections import defaultdict"
   ]
  },
  {
   "cell_type": "code",
   "execution_count": 4,
   "metadata": {},
   "outputs": [
    {
     "ename": "FileNotFoundError",
     "evalue": "[Errno 2] No such file or directory: 'additives_dangerousness.json'",
     "output_type": "error",
     "traceback": [
      "\u001b[0;31m---------------------------------------------------------------------------\u001b[0m",
      "\u001b[0;31mFileNotFoundError\u001b[0m                         Traceback (most recent call last)",
      "Cell \u001b[0;32mIn[4], line 1\u001b[0m\n\u001b[0;32m----> 1\u001b[0m \u001b[39mwith\u001b[39;00m \u001b[39mopen\u001b[39;49m(\u001b[39m'\u001b[39;49m\u001b[39madditives_dangerousness.json\u001b[39;49m\u001b[39m'\u001b[39;49m, \u001b[39m'\u001b[39;49m\u001b[39mr\u001b[39;49m\u001b[39m'\u001b[39;49m) \u001b[39mas\u001b[39;00m json_file:\n\u001b[1;32m      2\u001b[0m     ADDITIVES_DANGEROUSNESS \u001b[39m=\u001b[39m { additive[\u001b[39m'\u001b[39m\u001b[39mcode\u001b[39m\u001b[39m'\u001b[39m]: \u001b[39m4\u001b[39m \u001b[39m-\u001b[39m additive[\u001b[39m'\u001b[39m\u001b[39mdangerousnessLevel\u001b[39m\u001b[39m'\u001b[39m] \u001b[39mfor\u001b[39;00m additive \u001b[39min\u001b[39;00m json\u001b[39m.\u001b[39mload(json_file) }\n\u001b[1;32m      5\u001b[0m NOT_FOUND \u001b[39m=\u001b[39m []\n",
      "File \u001b[0;32m~/.pyenv/versions/3.11.2/lib/python3.11/site-packages/IPython/core/interactiveshell.py:282\u001b[0m, in \u001b[0;36m_modified_open\u001b[0;34m(file, *args, **kwargs)\u001b[0m\n\u001b[1;32m    275\u001b[0m \u001b[39mif\u001b[39;00m file \u001b[39min\u001b[39;00m {\u001b[39m0\u001b[39m, \u001b[39m1\u001b[39m, \u001b[39m2\u001b[39m}:\n\u001b[1;32m    276\u001b[0m     \u001b[39mraise\u001b[39;00m \u001b[39mValueError\u001b[39;00m(\n\u001b[1;32m    277\u001b[0m         \u001b[39mf\u001b[39m\u001b[39m\"\u001b[39m\u001b[39mIPython won\u001b[39m\u001b[39m'\u001b[39m\u001b[39mt let you open fd=\u001b[39m\u001b[39m{\u001b[39;00mfile\u001b[39m}\u001b[39;00m\u001b[39m by default \u001b[39m\u001b[39m\"\u001b[39m\n\u001b[1;32m    278\u001b[0m         \u001b[39m\"\u001b[39m\u001b[39mas it is likely to crash IPython. If you know what you are doing, \u001b[39m\u001b[39m\"\u001b[39m\n\u001b[1;32m    279\u001b[0m         \u001b[39m\"\u001b[39m\u001b[39myou can use builtins\u001b[39m\u001b[39m'\u001b[39m\u001b[39m open.\u001b[39m\u001b[39m\"\u001b[39m\n\u001b[1;32m    280\u001b[0m     )\n\u001b[0;32m--> 282\u001b[0m \u001b[39mreturn\u001b[39;00m io_open(file, \u001b[39m*\u001b[39;49margs, \u001b[39m*\u001b[39;49m\u001b[39m*\u001b[39;49mkwargs)\n",
      "\u001b[0;31mFileNotFoundError\u001b[0m: [Errno 2] No such file or directory: 'additives_dangerousness.json'"
     ]
    }
   ],
   "source": [
    "with open('additives_dangerousness.json', 'r') as json_file:\n",
    "    ADDITIVES_DANGEROUSNESS = { additive['code']: 4 - additive['dangerousnessLevel'] for additive in json.load(json_file) }\n",
    "\n",
    "\n",
    "NOT_FOUND = []\n",
    "def get_codes_by_level(level: int) -> list[str]:\n",
    "    return [k for k,v in ADDITIVES_DANGEROUSNESS if v == level]\n",
    "\n",
    "def get_dangerousness(additives):\n",
    "    if type(additives) != str: return 0, 0, 0\n",
    "    dangerousnesses = []\n",
    "    n = 0\n",
    "    for additive in additives.split(','):\n",
    "        code = additive.split('-')[0].strip()\n",
    "        if code in ADDITIVES_DANGEROUSNESS:\n",
    "            dangerousnesses.append(ADDITIVES_DANGEROUSNESS[code])\n",
    "            n += 1\n",
    "    if len(dangerousnesses) == 0: return 0, 0, 0\n",
    "    return min(dangerousnesses), sum(dangerousnesses) / n, max(dangerousnesses)\n",
    "\n",
    "\n",
    "df[['additives_min_dangerousness', 'additives_average_dangerousness', 'additives_max_dangerousness']] = df.apply(lambda r: get_dangerousness(r['additives']), axis=1, result_type=\"expand\")"
   ]
  },
  {
   "cell_type": "code",
   "execution_count": null,
   "metadata": {},
   "outputs": [],
   "source": [
    "\n",
    "def get_additives_count_hazard(additives, level):\n",
    "    if type(additives) != str: return 0\n",
    "    hazard = 0\n",
    "    for additive in additives.split(','):\n",
    "        code = additive.split('-')[0].strip()\n",
    "        if ADDITIVES_DANGEROUSNESS.get(code, -1) == level: hazard += 1\n",
    "    return hazard\n",
    "\n",
    "df['additives_0_count'] = df.apply(lambda r: get_additives_count_hazard(r['additives'], 0), axis=1)\n",
    "df['additives_1_count'] = df.apply(lambda r: get_additives_count_hazard(r['additives'], 1), axis=1)\n",
    "df['additives_2_count'] = df.apply(lambda r: get_additives_count_hazard(r['additives'], 2), axis=1)\n",
    "df['additives_3_count'] = df.apply(lambda r: get_additives_count_hazard(r['additives'], 3), axis=1)"
   ]
  },
  {
   "attachments": {},
   "cell_type": "markdown",
   "metadata": {},
   "source": [
    "## Adding additives count (`additives_count`)"
   ]
  },
  {
   "cell_type": "code",
   "execution_count": null,
   "metadata": {},
   "outputs": [],
   "source": [
    "df['has_additives'] = df['additives'].notna()\n",
    "df['additives_count'] = df['additives'].apply(lambda x: len(x.split(',')) if type(x) == str else 0)\n",
    "df['ingredients_count'] = df['ingredients_tags'].apply(lambda x: len(x.split(',')) if type(x) == str else 0)"
   ]
  },
  {
   "cell_type": "code",
   "execution_count": null,
   "metadata": {},
   "outputs": [
    {
     "data": {
      "text/plain": [
       "0.45712767696583295"
      ]
     },
     "execution_count": 284,
     "metadata": {},
     "output_type": "execute_result"
    }
   ],
   "source": [
    "df['has_additives'].mean()"
   ]
  },
  {
   "cell_type": "code",
   "execution_count": null,
   "metadata": {},
   "outputs": [],
   "source": [
    "def percentage_containing(df: pd.DataFrame) -> float:\n",
    "    \"\"\"\n",
    "        Returns the percentage of products that contain additives in the\n",
    "        given dataframe\n",
    "    \"\"\"\n",
    "    return 1 - df['additives'].isnull().mean()\n",
    "\n",
    "def average_number(df: pd.DataFrame) -> float:\n",
    "    \"\"\"\n",
    "        Returns the average number of additives in products that already contain\n",
    "        additives\n",
    "    \"\"\"\n",
    "    return df[df['additives'].notnull()]['additives'].str.split(',').apply(len).mean()\n",
    "\n",
    "def average_number_with_null(df: pd.DataFrame) -> float:\n",
    "    \"\"\"\n",
    "        Returns the average number of additives in products that already contain\n",
    "        additives\n",
    "    \"\"\"\n",
    "    return df[df['additives'].notnull()]['additives'].str.split(',').apply(len).sum() / len(df)"
   ]
  },
  {
   "attachments": {},
   "cell_type": "markdown",
   "metadata": {},
   "source": [
    "## Graph : Circle Packing (Bubble Chart) of additives "
   ]
  },
  {
   "cell_type": "code",
   "execution_count": null,
   "metadata": {},
   "outputs": [],
   "source": [
    "bubble_chart_additives = df['additives'].str.split(pat=',').explode(ignore_index=True).value_counts().to_frame().reset_index().head(50)\n",
    "bubble_chart_additives['dangerousness'] = bubble_chart_additives.apply(lambda r: ADDITIVES_DANGEROUSNESS.get(r['index'].split('-')[0].strip(), 0), axis=1)\n",
    "bubble_chart_additives.columns = ['additive', 'count', 'dangerosity']\n",
    "bubble_chart_additives.to_json('graph/bubble_chart_additives.json', orient='records', indent=4)"
   ]
  },
  {
   "attachments": {},
   "cell_type": "markdown",
   "metadata": {},
   "source": [
    "## Others"
   ]
  },
  {
   "cell_type": "code",
   "execution_count": null,
   "metadata": {},
   "outputs": [],
   "source": [
    "def predict(x, y):\n",
    "    X = df[[y, x]].dropna()\n",
    "    Y = X[y]\n",
    "    X = X.drop(columns=[y])\n",
    "\n",
    "    regressor = LinearRegression()\n",
    "    regressor.fit(np.array(X).reshape(-1, X.shape[1]), Y)\n",
    "    return regressor.intercept_"
   ]
  },
  {
   "attachments": {},
   "cell_type": "markdown",
   "metadata": {},
   "source": [
    "## Vegan and vegetarian"
   ]
  },
  {
   "cell_type": "code",
   "execution_count": null,
   "metadata": {},
   "outputs": [],
   "source": [
    "def get_vegan(df: pd.DataFrame) -> pd.DataFrame:\n",
    "    return df[df['is_vegan'] == True]\n",
    "\n",
    "def get_non_vegan(df: pd.DataFrame) -> pd.DataFrame:\n",
    "    return df[df['is_vegan'] == False]\n",
    "\n",
    "def get_vegetarian(df: pd.DataFrame) -> pd.DataFrame:\n",
    "    return df[df['is_vegetarian'] == True]\n",
    "\n",
    "def get_non_vegetarian(df: pd.DataFrame) -> pd.DataFrame:\n",
    "    return df[df['is_vegetarian'] == False]\n",
    "\n",
    "def get_vegan_or_vegetarian(df: pd.DataFrame) -> pd.DataFrame:\n",
    "    return df[(df['is_vegan'] == True) | (df['is_vegetarian'] == True)]\n",
    "\n",
    "def get_non_vegan_and_non_vegetarian(df: pd.DataFrame) -> pd.DataFrame:\n",
    "    return df[(df['is_vegan'] == False) & (df['is_vegetarian'] == False)]\n",
    "\n",
    "def get_organic(df: pd.DataFrame) -> pd.DataFrame:\n",
    "    return df[df['is_organic'] == True]\n",
    "\n",
    "def get_non_organic(df: pd.DataFrame) -> pd.DataFrame:\n",
    "    return df[df['is_organic'] == False]"
   ]
  },
  {
   "cell_type": "code",
   "execution_count": null,
   "metadata": {},
   "outputs": [
    {
     "name": "stdout",
     "output_type": "stream",
     "text": [
      "Organic products contain 148.16% less additives than non organic\n",
      "439.7392080839228\n"
     ]
    }
   ],
   "source": [
    "additives_percentage_in_organic = percentage_containing(get_organic(df))\n",
    "additives_percentage_in_non_organic = percentage_containing(get_non_organic(df))\n",
    "additives_decrease_organic = (additives_percentage_in_non_organic / additives_percentage_in_organic - 1) * 100\n",
    "print(f\"Organic products contain {additives_decrease_organic:.2f}% less additives than non organic\")\n",
    "\n",
    "print(average_number_with_null(get_non_organic(df)) / average_number_with_null(get_organic(df)) * 100)"
   ]
  },
  {
   "cell_type": "code",
   "execution_count": null,
   "metadata": {},
   "outputs": [
    {
     "name": "stdout",
     "output_type": "stream",
     "text": [
      "Vegan products contain 108.00% less additives than non vegan\n",
      "Vegetarian products contain 146.90% less additives than non vegetarian\n",
      "Vegan or vegetarian products contain 146.96% less additives than non ones\n"
     ]
    }
   ],
   "source": [
    "pv = percentage_containing(get_vegan(df))\n",
    "pnv = percentage_containing(get_non_vegan(df))\n",
    "print(f\"Vegan products contain {(pnv / pv - 1) * 100:.2f}% less additives than non vegan\")\n",
    "\n",
    "pve = percentage_containing(get_vegetarian(df))\n",
    "pnve = percentage_containing(get_non_vegetarian(df))\n",
    "print(f\"Vegetarian products contain {(pnve / pve - 1) * 100:.2f}% less additives than non vegetarian\")\n",
    "\n",
    "pvove = percentage_containing(get_vegan_or_vegetarian(df))\n",
    "pnvanve = percentage_containing(get_non_vegan_and_non_vegetarian(df))\n",
    "print(f\"Vegan or vegetarian products contain {(pnvanve / pvove - 1) * 100:.2f}% less additives than non ones\")"
   ]
  },
  {
   "cell_type": "code",
   "execution_count": null,
   "metadata": {},
   "outputs": [
    {
     "name": "stdout",
     "output_type": "stream",
     "text": [
      "Vegan products containing additives contain 68.28% less additives than non vegan\n",
      "Vegetarian products containing additives contain 63.11% less additives than non vegetarian\n",
      "Vegan or vegetarian products containing additives contain 63.05% less additives than non ones\n"
     ]
    }
   ],
   "source": [
    "av = average_number(get_vegan(df))\n",
    "anv = average_number(get_non_vegan(df))\n",
    "print(f\"Vegan products containing additives contain {(anv / av - 1) * 100:.2f}% less additives than non vegan\")\n",
    "\n",
    "ave = average_number(get_vegetarian(df))\n",
    "anve = average_number(get_non_vegetarian(df))\n",
    "print(f\"Vegetarian products containing additives contain {(anve / ave - 1) * 100:.2f}% less additives than non vegetarian\")\n",
    "\n",
    "avove = average_number(get_vegan_or_vegetarian(df))\n",
    "anvanve = average_number(get_non_vegan_and_non_vegetarian(df))\n",
    "print(f\"Vegan or vegetarian products containing additives contain {(anvanve / avove - 1) * 100:.2f}% less additives than non ones\")"
   ]
  },
  {
   "attachments": {},
   "cell_type": "markdown",
   "metadata": {},
   "source": [
    "## Nutriscore"
   ]
  },
  {
   "cell_type": "code",
   "execution_count": null,
   "metadata": {},
   "outputs": [
    {
     "data": {
      "text/html": [
       "<div>\n",
       "<style scoped>\n",
       "    .dataframe tbody tr th:only-of-type {\n",
       "        vertical-align: middle;\n",
       "    }\n",
       "\n",
       "    .dataframe tbody tr th {\n",
       "        vertical-align: top;\n",
       "    }\n",
       "\n",
       "    .dataframe thead th {\n",
       "        text-align: right;\n",
       "    }\n",
       "</style>\n",
       "<table border=\"1\" class=\"dataframe\">\n",
       "  <thead>\n",
       "    <tr style=\"text-align: right;\">\n",
       "      <th></th>\n",
       "      <th>additives_min_dangerousness</th>\n",
       "      <th>additives_average_dangerousness</th>\n",
       "      <th>additives_max_dangerousness</th>\n",
       "      <th>additives_count</th>\n",
       "      <th>has_additives</th>\n",
       "    </tr>\n",
       "    <tr>\n",
       "      <th>nutriscore_fr</th>\n",
       "      <th></th>\n",
       "      <th></th>\n",
       "      <th></th>\n",
       "      <th></th>\n",
       "      <th></th>\n",
       "    </tr>\n",
       "  </thead>\n",
       "  <tbody>\n",
       "    <tr>\n",
       "      <th>A</th>\n",
       "      <td>0.094908</td>\n",
       "      <td>0.178847</td>\n",
       "      <td>0.279225</td>\n",
       "      <td>0.586899</td>\n",
       "      <td>0.243844</td>\n",
       "    </tr>\n",
       "    <tr>\n",
       "      <th>B</th>\n",
       "      <td>0.100906</td>\n",
       "      <td>0.278181</td>\n",
       "      <td>0.495213</td>\n",
       "      <td>1.135834</td>\n",
       "      <td>0.427943</td>\n",
       "    </tr>\n",
       "    <tr>\n",
       "      <th>C</th>\n",
       "      <td>0.141228</td>\n",
       "      <td>0.515750</td>\n",
       "      <td>0.979386</td>\n",
       "      <td>1.787500</td>\n",
       "      <td>0.612500</td>\n",
       "    </tr>\n",
       "    <tr>\n",
       "      <th>D</th>\n",
       "      <td>0.194289</td>\n",
       "      <td>0.524827</td>\n",
       "      <td>0.938924</td>\n",
       "      <td>1.608947</td>\n",
       "      <td>0.491086</td>\n",
       "    </tr>\n",
       "    <tr>\n",
       "      <th>E</th>\n",
       "      <td>0.341737</td>\n",
       "      <td>0.826620</td>\n",
       "      <td>1.417017</td>\n",
       "      <td>2.107493</td>\n",
       "      <td>0.662115</td>\n",
       "    </tr>\n",
       "  </tbody>\n",
       "</table>\n",
       "</div>"
      ],
      "text/plain": [
       "               additives_min_dangerousness  additives_average_dangerousness  \\\n",
       "nutriscore_fr                                                                 \n",
       "A                                 0.094908                         0.178847   \n",
       "B                                 0.100906                         0.278181   \n",
       "C                                 0.141228                         0.515750   \n",
       "D                                 0.194289                         0.524827   \n",
       "E                                 0.341737                         0.826620   \n",
       "\n",
       "               additives_max_dangerousness  additives_count  has_additives  \n",
       "nutriscore_fr                                                               \n",
       "A                                 0.279225         0.586899       0.243844  \n",
       "B                                 0.495213         1.135834       0.427943  \n",
       "C                                 0.979386         1.787500       0.612500  \n",
       "D                                 0.938924         1.608947       0.491086  \n",
       "E                                 1.417017         2.107493       0.662115  "
      ]
     },
     "execution_count": 292,
     "metadata": {},
     "output_type": "execute_result"
    }
   ],
   "source": [
    "df.groupby('nutriscore_fr')[['additives_min_dangerousness', 'additives_average_dangerousness', 'additives_max_dangerousness', 'additives_count', 'has_additives']].mean().sort_values(by='additives_average_dangerousness')"
   ]
  },
  {
   "cell_type": "code",
   "execution_count": null,
   "metadata": {},
   "outputs": [],
   "source": [
    "df['nutriscore_fr_as_number'] = df.apply(lambda r: ord(r['nutriscore_fr']) - ord('A') if type(r['nutriscore_fr']) == str else None, axis=1)"
   ]
  },
  {
   "cell_type": "code",
   "execution_count": null,
   "metadata": {},
   "outputs": [
    {
     "data": {
      "text/plain": [
       "0.7461945337535004"
      ]
     },
     "execution_count": 294,
     "metadata": {},
     "output_type": "execute_result"
    }
   ],
   "source": [
    "predict('nutriscore_fr_as_number', 'additives_count')"
   ]
  },
  {
   "cell_type": "code",
   "execution_count": null,
   "metadata": {},
   "outputs": [
    {
     "data": {
      "text/plain": [
       "0.1635983577826528"
      ]
     },
     "execution_count": 295,
     "metadata": {},
     "output_type": "execute_result"
    }
   ],
   "source": [
    "predict('nutriscore_fr_as_number', 'additives_average_dangerousness')"
   ]
  },
  {
   "cell_type": "code",
   "execution_count": null,
   "metadata": {},
   "outputs": [
    {
     "data": {
      "text/plain": [
       "'[{\"nutriscore_fr\":\"A\",\"additives_min_dangerousness\":0.0949079608,\"additives_average_dangerousness\":0.1788466355,\"additives_max_dangerousness\":0.2792254363},{\"nutriscore_fr\":\"B\",\"additives_min_dangerousness\":0.1009055627,\"additives_average_dangerousness\":0.2781810528,\"additives_max_dangerousness\":0.4952134541},{\"nutriscore_fr\":\"C\",\"additives_min_dangerousness\":0.1412280702,\"additives_average_dangerousness\":0.5157502073,\"additives_max_dangerousness\":0.9793859649},{\"nutriscore_fr\":\"D\",\"additives_min_dangerousness\":0.1942885441,\"additives_average_dangerousness\":0.5248268332,\"additives_max_dangerousness\":0.9389237372},{\"nutriscore_fr\":\"E\",\"additives_min_dangerousness\":0.3417366947,\"additives_average_dangerousness\":0.8266200253,\"additives_max_dangerousness\":1.4170168067}]'"
      ]
     },
     "execution_count": 296,
     "metadata": {},
     "output_type": "execute_result"
    }
   ],
   "source": [
    "df.groupby('nutriscore_fr')[['additives_min_dangerousness', 'additives_average_dangerousness', 'additives_max_dangerousness']].mean().sort_values(by='nutriscore_fr').reset_index().to_json(orient='records')"
   ]
  },
  {
   "attachments": {},
   "cell_type": "markdown",
   "metadata": {},
   "source": [
    "## Eco Score"
   ]
  },
  {
   "cell_type": "code",
   "execution_count": null,
   "metadata": {},
   "outputs": [
    {
     "data": {
      "text/html": [
       "<div>\n",
       "<style scoped>\n",
       "    .dataframe tbody tr th:only-of-type {\n",
       "        vertical-align: middle;\n",
       "    }\n",
       "\n",
       "    .dataframe tbody tr th {\n",
       "        vertical-align: top;\n",
       "    }\n",
       "\n",
       "    .dataframe thead th {\n",
       "        text-align: right;\n",
       "    }\n",
       "</style>\n",
       "<table border=\"1\" class=\"dataframe\">\n",
       "  <thead>\n",
       "    <tr style=\"text-align: right;\">\n",
       "      <th></th>\n",
       "      <th>additives_min_dangerousness</th>\n",
       "      <th>additives_average_dangerousness</th>\n",
       "      <th>additives_max_dangerousness</th>\n",
       "      <th>additives_count</th>\n",
       "      <th>has_additives</th>\n",
       "    </tr>\n",
       "    <tr>\n",
       "      <th>ecoscore_grade</th>\n",
       "      <th></th>\n",
       "      <th></th>\n",
       "      <th></th>\n",
       "      <th></th>\n",
       "      <th></th>\n",
       "    </tr>\n",
       "  </thead>\n",
       "  <tbody>\n",
       "    <tr>\n",
       "      <th>a</th>\n",
       "      <td>0.098383</td>\n",
       "      <td>0.224964</td>\n",
       "      <td>0.390836</td>\n",
       "      <td>0.986074</td>\n",
       "      <td>0.391285</td>\n",
       "    </tr>\n",
       "    <tr>\n",
       "      <th>b</th>\n",
       "      <td>0.118304</td>\n",
       "      <td>0.257959</td>\n",
       "      <td>0.452514</td>\n",
       "      <td>1.048965</td>\n",
       "      <td>0.372494</td>\n",
       "    </tr>\n",
       "    <tr>\n",
       "      <th>c</th>\n",
       "      <td>0.175995</td>\n",
       "      <td>0.459262</td>\n",
       "      <td>0.818881</td>\n",
       "      <td>1.295034</td>\n",
       "      <td>0.438313</td>\n",
       "    </tr>\n",
       "    <tr>\n",
       "      <th>d</th>\n",
       "      <td>0.197324</td>\n",
       "      <td>0.589893</td>\n",
       "      <td>1.050446</td>\n",
       "      <td>1.548774</td>\n",
       "      <td>0.515608</td>\n",
       "    </tr>\n",
       "    <tr>\n",
       "      <th>e</th>\n",
       "      <td>0.272050</td>\n",
       "      <td>0.665674</td>\n",
       "      <td>1.104811</td>\n",
       "      <td>1.576174</td>\n",
       "      <td>0.531501</td>\n",
       "    </tr>\n",
       "  </tbody>\n",
       "</table>\n",
       "</div>"
      ],
      "text/plain": [
       "                additives_min_dangerousness  additives_average_dangerousness  \\\n",
       "ecoscore_grade                                                                 \n",
       "a                                  0.098383                         0.224964   \n",
       "b                                  0.118304                         0.257959   \n",
       "c                                  0.175995                         0.459262   \n",
       "d                                  0.197324                         0.589893   \n",
       "e                                  0.272050                         0.665674   \n",
       "\n",
       "                additives_max_dangerousness  additives_count  has_additives  \n",
       "ecoscore_grade                                                               \n",
       "a                                  0.390836         0.986074       0.391285  \n",
       "b                                  0.452514         1.048965       0.372494  \n",
       "c                                  0.818881         1.295034       0.438313  \n",
       "d                                  1.050446         1.548774       0.515608  \n",
       "e                                  1.104811         1.576174       0.531501  "
      ]
     },
     "execution_count": 297,
     "metadata": {},
     "output_type": "execute_result"
    }
   ],
   "source": [
    "df.groupby('ecoscore_grade')[['additives_min_dangerousness', 'additives_average_dangerousness', 'additives_max_dangerousness', 'additives_count', 'has_additives']].mean().sort_values(by='additives_average_dangerousness')"
   ]
  },
  {
   "attachments": {},
   "cell_type": "markdown",
   "metadata": {},
   "source": [
    "## Food Category"
   ]
  },
  {
   "cell_type": "code",
   "execution_count": null,
   "metadata": {},
   "outputs": [
    {
     "data": {
      "text/html": [
       "<div>\n",
       "<style scoped>\n",
       "    .dataframe tbody tr th:only-of-type {\n",
       "        vertical-align: middle;\n",
       "    }\n",
       "\n",
       "    .dataframe tbody tr th {\n",
       "        vertical-align: top;\n",
       "    }\n",
       "\n",
       "    .dataframe thead th {\n",
       "        text-align: right;\n",
       "    }\n",
       "</style>\n",
       "<table border=\"1\" class=\"dataframe\">\n",
       "  <thead>\n",
       "    <tr style=\"text-align: right;\">\n",
       "      <th></th>\n",
       "      <th>mean</th>\n",
       "      <th>count</th>\n",
       "    </tr>\n",
       "    <tr>\n",
       "      <th>categories_splitted</th>\n",
       "      <th></th>\n",
       "      <th></th>\n",
       "    </tr>\n",
       "  </thead>\n",
       "  <tbody>\n",
       "    <tr>\n",
       "      <th>cured sausages</th>\n",
       "      <td>1.981717</td>\n",
       "      <td>410</td>\n",
       "    </tr>\n",
       "    <tr>\n",
       "      <th>raw cured ham</th>\n",
       "      <td>1.848241</td>\n",
       "      <td>199</td>\n",
       "    </tr>\n",
       "    <tr>\n",
       "      <th>artificially sweetened beverages</th>\n",
       "      <td>1.818556</td>\n",
       "      <td>66</td>\n",
       "    </tr>\n",
       "    <tr>\n",
       "      <th>cured ham</th>\n",
       "      <td>1.803520</td>\n",
       "      <td>232</td>\n",
       "    </tr>\n",
       "    <tr>\n",
       "      <th>dried hams</th>\n",
       "      <td>1.750815</td>\n",
       "      <td>184</td>\n",
       "    </tr>\n",
       "    <tr>\n",
       "      <th>salami</th>\n",
       "      <td>1.715769</td>\n",
       "      <td>99</td>\n",
       "    </tr>\n",
       "    <tr>\n",
       "      <th>dried meats</th>\n",
       "      <td>1.688272</td>\n",
       "      <td>54</td>\n",
       "    </tr>\n",
       "    <tr>\n",
       "      <th>chorizo</th>\n",
       "      <td>1.673998</td>\n",
       "      <td>84</td>\n",
       "    </tr>\n",
       "    <tr>\n",
       "      <th>processed cheese</th>\n",
       "      <td>1.647783</td>\n",
       "      <td>58</td>\n",
       "    </tr>\n",
       "    <tr>\n",
       "      <th>sodas</th>\n",
       "      <td>1.588800</td>\n",
       "      <td>84</td>\n",
       "    </tr>\n",
       "  </tbody>\n",
       "</table>\n",
       "</div>"
      ],
      "text/plain": [
       "                                      mean  count\n",
       "categories_splitted                              \n",
       "cured sausages                    1.981717    410\n",
       "raw cured ham                     1.848241    199\n",
       "artificially sweetened beverages  1.818556     66\n",
       "cured ham                         1.803520    232\n",
       "dried hams                        1.750815    184\n",
       "salami                            1.715769     99\n",
       "dried meats                       1.688272     54\n",
       "chorizo                           1.673998     84\n",
       "processed cheese                  1.647783     58\n",
       "sodas                             1.588800     84"
      ]
     },
     "execution_count": 298,
     "metadata": {},
     "output_type": "execute_result"
    }
   ],
   "source": [
    "\n",
    "df['categories_splitted'] = df['categories'].str.split(',')\n",
    "df.explode(['categories_splitted']).groupby('categories_splitted')['additives_average_dangerousness'].agg(['mean', 'count']).query('count > 50').sort_values(by='mean', ascending=False).head(10)"
   ]
  },
  {
   "cell_type": "code",
   "execution_count": null,
   "metadata": {},
   "outputs": [],
   "source": [
    "from sklearn.metrics import r2_score\n",
    "from scipy import stats"
   ]
  },
  {
   "attachments": {},
   "cell_type": "markdown",
   "metadata": {},
   "source": [
    "# Nutriscore"
   ]
  },
  {
   "attachments": {},
   "cell_type": "markdown",
   "metadata": {},
   "source": [
    "## Charts"
   ]
  },
  {
   "cell_type": "code",
   "execution_count": null,
   "metadata": {},
   "outputs": [],
   "source": [
    "df.groupby('nutriscore_fr')[['additives_0_count', 'additives_1_count', 'additives_2_count', 'additives_3_count']].mean().reset_index().to_json('nutriscore_stacked_bar_chart.json', indent=4, orient='records')"
   ]
  },
  {
   "cell_type": "code",
   "execution_count": null,
   "metadata": {},
   "outputs": [],
   "source": [
    "df.groupby('nutriscore_fr')[['additives_count']].sum().reset_index().to_json('nutriscore_stacked_bar_chart.json', indent=4, orient='records')"
   ]
  },
  {
   "cell_type": "code",
   "execution_count": null,
   "metadata": {},
   "outputs": [],
   "source": [
    "df.groupby('nutriscore_fr')[['additives_min_dangerousness', 'additives_average_dangerousness', 'additives_max_dangerousness']] \\\n",
    "    .mean() \\\n",
    "    .reset_index() \\\n",
    "    .to_json('nutriscore_line_area_chart.json', indent=4, orient='records')"
   ]
  },
  {
   "attachments": {},
   "cell_type": "markdown",
   "metadata": {},
   "source": [
    "# Vegan & Vegetarian"
   ]
  },
  {
   "attachments": {},
   "cell_type": "markdown",
   "metadata": {},
   "source": [
    "## Facts"
   ]
  },
  {
   "attachments": {},
   "cell_type": "markdown",
   "metadata": {},
   "source": [
    "Following a vegetarian diet reduce the average number of additives per product by 1.30"
   ]
  },
  {
   "cell_type": "code",
   "execution_count": null,
   "metadata": {},
   "outputs": [
    {
     "name": "stdout",
     "output_type": "stream",
     "text": [
      "0.40136313700300064\n",
      "[-0.34880243  0.15029316 -0.56258442  0.07326231]\n",
      "P-value = [1.0597038802018233e-09, 0.0, 0.0003385430365343556, 0.0, 0.0]\n"
     ]
    },
    {
     "name": "stderr",
     "output_type": "stream",
     "text": [
      "/Users/jeansiffert/.pyenv/versions/3.11.2/lib/python3.11/site-packages/sklearn/base.py:432: UserWarning: X has feature names, but LinearRegression was fitted without feature names\n",
      "  warnings.warn(\n",
      "/Users/jeansiffert/.pyenv/versions/3.11.2/lib/python3.11/site-packages/sklearn/base.py:432: UserWarning: X has feature names, but LinearRegression was fitted without feature names\n",
      "  warnings.warn(\n"
     ]
    }
   ],
   "source": [
    "predicted = 'additives_count'\n",
    "\n",
    "X = df[[predicted, 'is_vegetarian', 'is_vegan', 'is_organic', 'ingredients_count']].dropna()\n",
    "Y = X[predicted]\n",
    "X = X.drop(columns=[predicted])\n",
    "\n",
    "lm = LinearRegression()\n",
    "lm.fit(np.array(X).reshape(-1, X.shape[1]), Y)\n",
    "print(r2_score(Y, lm.predict(X)))\n",
    "print(lm.coef_)\n",
    "\n",
    "params = np.append(lm.intercept_,lm.coef_)\n",
    "predictions = lm.predict(X)\n",
    "new_X = np.append(np.ones((len(X),1)), X, axis=1)\n",
    "M_S_E = (sum((Y-predictions)**2))/(len(new_X)-len(new_X[0]))\n",
    "v_b = M_S_E*(np.linalg.inv(np.dot(new_X.T,new_X)).diagonal())\n",
    "s_b = np.sqrt(v_b)\n",
    "t_b = params/ s_b\n",
    "p_val =[2*(1-stats.t.cdf(np.abs(i),(len(new_X)-len(new_X[0])))) for i in t_b]\n",
    "print(f\"P-value = {p_val}\")"
   ]
  },
  {
   "attachments": {},
   "cell_type": "markdown",
   "metadata": {},
   "source": [
    "Following a vegetarian diet reduce the average dangerosity of additives by 0.43 "
   ]
  },
  {
   "cell_type": "code",
   "execution_count": null,
   "metadata": {},
   "outputs": [
    {
     "name": "stdout",
     "output_type": "stream",
     "text": [
      "[-0.43289928]\n"
     ]
    }
   ],
   "source": [
    "predicted = 'additives_average_dangerousness'\n",
    "\n",
    "X = df[[predicted, 'is_vegetarian']].dropna()\n",
    "Y = X[predicted]\n",
    "X = X.drop(columns=[predicted])\n",
    "\n",
    "regressor = LinearRegression()\n",
    "regressor.fit(np.array(X).reshape(-1, X.shape[1]), Y)\n",
    "print(regressor.coef_)"
   ]
  },
  {
   "attachments": {},
   "cell_type": "markdown",
   "metadata": {},
   "source": [
    "Following a vegan diet reduce the average number of additives per product by 1.11"
   ]
  },
  {
   "cell_type": "code",
   "execution_count": null,
   "metadata": {},
   "outputs": [
    {
     "name": "stdout",
     "output_type": "stream",
     "text": [
      "[-1.11264023]\n"
     ]
    }
   ],
   "source": [
    "predicted = 'additives_count'\n",
    "\n",
    "X = df[[predicted, 'is_vegan']].dropna()\n",
    "Y = X[predicted]\n",
    "X = X.drop(columns=[predicted])\n",
    "\n",
    "regressor = LinearRegression()\n",
    "regressor.fit(np.array(X).reshape(-1, X.shape[1]), Y)\n",
    "print(regressor.coef_)"
   ]
  },
  {
   "attachments": {},
   "cell_type": "markdown",
   "metadata": {},
   "source": [
    "Following a vegan diet reduce the average dangerosity of additives by 0.39"
   ]
  },
  {
   "cell_type": "code",
   "execution_count": null,
   "metadata": {},
   "outputs": [
    {
     "name": "stdout",
     "output_type": "stream",
     "text": [
      "[-0.39077919]\n"
     ]
    }
   ],
   "source": [
    "predicted = 'additives_average_dangerousness'\n",
    "\n",
    "X = df[[predicted, 'is_vegan']].dropna()\n",
    "Y = X[predicted]\n",
    "X = X.drop(columns=[predicted])\n",
    "\n",
    "regressor = LinearRegression()\n",
    "regressor.fit(np.array(X).reshape(-1, X.shape[1]), Y)\n",
    "print(regressor.coef_)"
   ]
  },
  {
   "attachments": {},
   "cell_type": "markdown",
   "metadata": {},
   "source": [
    "Meat products represent 26.2% of the products in the database but contain 71.4% of the additives\n",
    "\n",
    "The average hazard of additives in meat products is 3.5 times higher than in non-meat products."
   ]
  },
  {
   "cell_type": "code",
   "execution_count": null,
   "metadata": {},
   "outputs": [
    {
     "name": "stdout",
     "output_type": "stream",
     "text": [
      "0.2624280806324765\n",
      "0.7141414141414142\n",
      "3.455496730430973\n"
     ]
    }
   ],
   "source": [
    "df['is_meat_based'] = df['categories'].str.contains('meat')\n",
    "\n",
    "def get_meat_based_products(df: pd.DataFrame) -> pd.DataFrame:\n",
    "    return df[df['is_meat_based'] == True]\n",
    "\n",
    "def get_above_dangerosity(df: pd.DataFrame, dangerosity: int) -> pd.DataFrame:\n",
    "    return df[df['additives_min_dangerousness'] > dangerosity]\n",
    "\n",
    "print(df['is_meat_based'].mean())\n",
    "print(get_above_dangerosity(get_meat_based_products(df), 2)['additives_count'].sum() / get_above_dangerosity(df, 2)['additives_count'].sum())\n",
    "print(get_meat_based_products(df)['additives_average_dangerousness'].mean() / df[df['is_meat_based'] == False]['additives_average_dangerousness'].mean())"
   ]
  },
  {
   "cell_type": "code",
   "execution_count": null,
   "metadata": {},
   "outputs": [],
   "source": [
    "# get_meat_based_products(df)['additives_count'].mean() / get_vegan_or_vegetarian(df)['additives_count'].mean() # ~ 4.77\n",
    "# get_meat_based_products(df)['additives_average_dangerousness'].mean() / get_vegan_or_vegetarian(df)['additives_average_dangerousness'].mean() # ~7.60"
   ]
  },
  {
   "attachments": {},
   "cell_type": "markdown",
   "metadata": {},
   "source": [
    "## Graphs"
   ]
  },
  {
   "cell_type": "code",
   "execution_count": null,
   "metadata": {},
   "outputs": [],
   "source": [
    "labels = ['Meat based products', 'All products', 'Vegetarian', 'Vegan', 'Vegetarian or Vegan']\n",
    "average_additives_counts = [\n",
    "    get_meat_based_products(df)['additives_count'].mean(),\n",
    "    df['additives_count'].mean(),\n",
    "    get_vegetarian(df)['additives_count'].mean(),\n",
    "    get_vegan(df)['additives_count'].mean(),\n",
    "    get_vegan_or_vegetarian(df)['additives_count'].mean()\n",
    "]\n",
    "pd.DataFrame({\n",
    "    'label': labels,\n",
    "    'average_additives_count': average_additives_counts,\n",
    "}).to_json('graph/vegetarian_vegan_additives_count.json', indent=4, orient='records')"
   ]
  },
  {
   "cell_type": "code",
   "execution_count": null,
   "metadata": {},
   "outputs": [],
   "source": [
    "labels = ['Meat based products', 'All products', 'Vegetarian', 'Vegan', 'Vegetarian or Vegan']\n",
    "average_hazards = [\n",
    "    get_meat_based_products(df)['additives_average_dangerousness'].mean(),\n",
    "    df['additives_average_dangerousness'].mean(),\n",
    "    get_vegetarian(df)['additives_average_dangerousness'].mean(),\n",
    "    get_vegan(df)['additives_average_dangerousness'].mean(),\n",
    "    get_vegan_or_vegetarian(df)['additives_average_dangerousness'].mean()\n",
    "]\n",
    "pd.DataFrame({\n",
    "    'label': labels,\n",
    "    'average_hazard': average_hazards\n",
    "}).to_json('graph/vegetarian_vegan_average_hazards.json', indent=4, orient='records')"
   ]
  },
  {
   "attachments": {},
   "cell_type": "markdown",
   "metadata": {},
   "source": [
    "# NOVA Index"
   ]
  },
  {
   "attachments": {},
   "cell_type": "markdown",
   "metadata": {},
   "source": [
    "## Facts"
   ]
  },
  {
   "cell_type": "code",
   "execution_count": null,
   "metadata": {},
   "outputs": [
    {
     "data": {
      "text/plain": [
       "nova_group\n",
       "1.0    0.046915\n",
       "2.0    0.059937\n",
       "3.0    0.313321\n",
       "4.0    2.699152\n",
       "Name: additives_count, dtype: float64"
      ]
     },
     "execution_count": 323,
     "metadata": {},
     "output_type": "execute_result"
    }
   ],
   "source": [
    "df.groupby('nova_group')['additives_count'].mean()"
   ]
  },
  {
   "cell_type": "code",
   "execution_count": null,
   "metadata": {},
   "outputs": [
    {
     "data": {
      "text/plain": [
       "nova_group\n",
       "1.0    0.020614\n",
       "2.0    0.062303\n",
       "3.0    0.206557\n",
       "4.0    0.781140\n",
       "Name: additives_average_dangerousness, dtype: float64"
      ]
     },
     "execution_count": 324,
     "metadata": {},
     "output_type": "execute_result"
    }
   ],
   "source": [
    "df.groupby('nova_group')['additives_average_dangerousness'].mean()"
   ]
  },
  {
   "attachments": {},
   "cell_type": "markdown",
   "metadata": {},
   "source": [
    "## Graphs"
   ]
  },
  {
   "cell_type": "code",
   "execution_count": null,
   "metadata": {},
   "outputs": [],
   "source": [
    "df.groupby('nova_group')[['additives_0_count', 'additives_1_count', 'additives_2_count', 'additives_3_count']] \\\n",
    "    .mean() \\\n",
    "    .reset_index() \\\n",
    "    .to_json('nova_stacked_bar_chart.json', indent=4, orient='records')"
   ]
  },
  {
   "cell_type": "code",
   "execution_count": null,
   "metadata": {},
   "outputs": [],
   "source": [
    "from itertools import combinations\n",
    "\n",
    "force_directed_graph_ = {\n",
    "    'nodes': [],\n",
    "    'links': []\n",
    "}\n",
    "\n",
    "threshold = 100\n",
    "\n",
    "additives_links = df['additives'] \\\n",
    "    .str.split(',') \\\n",
    "    .apply(lambda a: list(combinations(a, 2)) if type(a) != float else []) \\\n",
    "    .explode() \\\n",
    "    .value_counts() \\\n",
    "    .to_frame() \\\n",
    "    .reset_index()\n",
    "\n",
    "additives_links.columns = ['additives', 'value']\n",
    "additives_links[['source', 'target']] = additives_links['additives'].apply(pd.Series)\n",
    "additives_links.drop(['additives'], axis=1, inplace=True)\n",
    "additives_links.drop(additives_links[additives_links.value < threshold].index, inplace = True)\n",
    "force_directed_graph_['links'] = additives_links.to_dict('records')\n",
    "\n",
    "s = set()\n",
    "for link in force_directed_graph_['links']:\n",
    "    s.add(link['source'])\n",
    "    s.add(link['target'])\n",
    "force_directed_graph_['nodes'] = [{ 'id': n, 'group': ADDITIVES_DANGEROUSNESS.get(n.split('-')[0].strip(), 0) } for i, n in enumerate(s)]\n",
    "\n",
    "with open('additives_force_directed_chart.json', 'w') as json_file:\n",
    "    json.dump(force_directed_graph_, json_file, indent=4)"
   ]
  },
  {
   "attachments": {},
   "cell_type": "markdown",
   "metadata": {},
   "source": [
    "# Organic"
   ]
  },
  {
   "attachments": {},
   "cell_type": "markdown",
   "metadata": {},
   "source": [
    "## Facts"
   ]
  },
  {
   "attachments": {},
   "cell_type": "markdown",
   "metadata": {},
   "source": [
    "Consuming organic products reduce the average number of additives per product by 1.23"
   ]
  },
  {
   "cell_type": "code",
   "execution_count": null,
   "metadata": {},
   "outputs": [
    {
     "name": "stdout",
     "output_type": "stream",
     "text": [
      "[-1.22839101]\n"
     ]
    }
   ],
   "source": [
    "predicted = 'additives_count'\n",
    "\n",
    "X = df[[predicted, 'is_organic']].dropna()\n",
    "Y = X[predicted]\n",
    "X = X.drop(columns=[predicted])\n",
    "\n",
    "regressor = LinearRegression()\n",
    "regressor.fit(np.array(X).reshape(-1, X.shape[1]), Y)\n",
    "print(regressor.coef_)"
   ]
  },
  {
   "attachments": {},
   "cell_type": "markdown",
   "metadata": {},
   "source": [
    "Consuming organic products reduce the average dangerosity of additives by 0.41"
   ]
  },
  {
   "cell_type": "code",
   "execution_count": null,
   "metadata": {},
   "outputs": [
    {
     "name": "stdout",
     "output_type": "stream",
     "text": [
      "[-0.40691048]\n"
     ]
    }
   ],
   "source": [
    "predicted = 'additives_average_dangerousness'\n",
    "\n",
    "X = df[[predicted, 'is_organic']].dropna()\n",
    "Y = X[predicted]\n",
    "X = X.drop(columns=[predicted])\n",
    "\n",
    "regressor = LinearRegression()\n",
    "regressor.fit(np.array(X).reshape(-1, X.shape[1]), Y)\n",
    "print(regressor.coef_)"
   ]
  },
  {
   "cell_type": "code",
   "execution_count": null,
   "metadata": {},
   "outputs": [
    {
     "name": "stdout",
     "output_type": "stream",
     "text": [
      "0.3615688094685542\n",
      "1.5899598194354878\n",
      "4.397392080839228\n"
     ]
    }
   ],
   "source": [
    "print(df[df['is_organic'] == True]['additives_count'].mean())\n",
    "print(df[df['is_organic'] == False]['additives_count'].mean())\n",
    "print(df[df['is_organic'] == False]['additives_count'].mean() / df[df['is_organic'] == True]['additives_count'].mean())"
   ]
  },
  {
   "attachments": {},
   "cell_type": "markdown",
   "metadata": {},
   "source": [
    "# MAYBE STOP DOING LINEAR REGRESSION ?"
   ]
  },
  {
   "attachments": {},
   "cell_type": "markdown",
   "metadata": {},
   "source": [
    "## Organic (same analysis)"
   ]
  },
  {
   "attachments": {},
   "cell_type": "markdown",
   "metadata": {},
   "source": [
    "## Palm Oil"
   ]
  },
  {
   "cell_type": "code",
   "execution_count": null,
   "metadata": {},
   "outputs": [
    {
     "name": "stdout",
     "output_type": "stream",
     "text": [
      "1.15931188370361\n",
      "[0.63501536]\n"
     ]
    }
   ],
   "source": [
    "predicted = 'additives_count'\n",
    "\n",
    "X = df[[predicted, 'palm_oil']].dropna()\n",
    "Y = X[predicted]\n",
    "X = X.drop(columns=[predicted])\n",
    "\n",
    "regressor = LinearRegression()\n",
    "regressor.fit(np.array(X).reshape(-1, X.shape[1]), Y)\n",
    "print(regressor.intercept_)\n",
    "print(regressor.coef_)"
   ]
  },
  {
   "cell_type": "code",
   "execution_count": null,
   "metadata": {},
   "outputs": [
    {
     "name": "stdout",
     "output_type": "stream",
     "text": [
      "0.427297101189754\n",
      "[0.01710506]\n"
     ]
    }
   ],
   "source": [
    "predicted = 'additives_average_dangerousness'\n",
    "\n",
    "X = df[[predicted, 'palm_oil']].dropna()\n",
    "Y = X[predicted]\n",
    "X = X.drop(columns=[predicted])\n",
    "\n",
    "regressor = LinearRegression()\n",
    "regressor.fit(np.array(X).reshape(-1, X.shape[1]), Y)\n",
    "print(regressor.intercept_)\n",
    "print(regressor.coef_)"
   ]
  },
  {
   "attachments": {},
   "cell_type": "markdown",
   "metadata": {},
   "source": [
    "## Nova\n",
    "- https://world.openfoodfacts.org/nova\n",
    "- https://www.nature.com/articles/s41430-022-01099-1\n",
    "- https://en.wikipedia.org/wiki/Ultra-processed_food"
   ]
  },
  {
   "cell_type": "code",
   "execution_count": null,
   "metadata": {},
   "outputs": [
    {
     "data": {
      "text/html": [
       "<div>\n",
       "<style scoped>\n",
       "    .dataframe tbody tr th:only-of-type {\n",
       "        vertical-align: middle;\n",
       "    }\n",
       "\n",
       "    .dataframe tbody tr th {\n",
       "        vertical-align: top;\n",
       "    }\n",
       "\n",
       "    .dataframe thead th {\n",
       "        text-align: right;\n",
       "    }\n",
       "</style>\n",
       "<table border=\"1\" class=\"dataframe\">\n",
       "  <thead>\n",
       "    <tr style=\"text-align: right;\">\n",
       "      <th></th>\n",
       "      <th>additives_min_dangerousness</th>\n",
       "      <th>additives_average_dangerousness</th>\n",
       "      <th>additives_max_dangerousness</th>\n",
       "      <th>additives_count</th>\n",
       "      <th>has_additives</th>\n",
       "    </tr>\n",
       "    <tr>\n",
       "      <th>nova_group</th>\n",
       "      <th></th>\n",
       "      <th></th>\n",
       "      <th></th>\n",
       "      <th></th>\n",
       "      <th></th>\n",
       "    </tr>\n",
       "  </thead>\n",
       "  <tbody>\n",
       "    <tr>\n",
       "      <th>1.0</th>\n",
       "      <td>0.019903</td>\n",
       "      <td>0.020614</td>\n",
       "      <td>0.021609</td>\n",
       "      <td>0.046915</td>\n",
       "      <td>0.041228</td>\n",
       "    </tr>\n",
       "    <tr>\n",
       "      <th>2.0</th>\n",
       "      <td>0.050473</td>\n",
       "      <td>0.062303</td>\n",
       "      <td>0.070978</td>\n",
       "      <td>0.059937</td>\n",
       "      <td>0.048896</td>\n",
       "    </tr>\n",
       "    <tr>\n",
       "      <th>3.0</th>\n",
       "      <td>0.137682</td>\n",
       "      <td>0.206557</td>\n",
       "      <td>0.276663</td>\n",
       "      <td>0.313321</td>\n",
       "      <td>0.202049</td>\n",
       "    </tr>\n",
       "    <tr>\n",
       "      <th>4.0</th>\n",
       "      <td>0.248572</td>\n",
       "      <td>0.781140</td>\n",
       "      <td>1.446425</td>\n",
       "      <td>2.699152</td>\n",
       "      <td>0.828371</td>\n",
       "    </tr>\n",
       "  </tbody>\n",
       "</table>\n",
       "</div>"
      ],
      "text/plain": [
       "            additives_min_dangerousness  additives_average_dangerousness  \\\n",
       "nova_group                                                                 \n",
       "1.0                            0.019903                         0.020614   \n",
       "2.0                            0.050473                         0.062303   \n",
       "3.0                            0.137682                         0.206557   \n",
       "4.0                            0.248572                         0.781140   \n",
       "\n",
       "            additives_max_dangerousness  additives_count  has_additives  \n",
       "nova_group                                                               \n",
       "1.0                            0.021609         0.046915       0.041228  \n",
       "2.0                            0.070978         0.059937       0.048896  \n",
       "3.0                            0.276663         0.313321       0.202049  \n",
       "4.0                            1.446425         2.699152       0.828371  "
      ]
     },
     "execution_count": 316,
     "metadata": {},
     "output_type": "execute_result"
    }
   ],
   "source": [
    "df.groupby('nova_group')[['additives_min_dangerousness', 'additives_average_dangerousness', 'additives_max_dangerousness', 'additives_count', 'has_additives']].mean().sort_values(by='additives_average_dangerousness')"
   ]
  },
  {
   "attachments": {},
   "cell_type": "markdown",
   "metadata": {},
   "source": [
    "## Brands"
   ]
  },
  {
   "cell_type": "code",
   "execution_count": null,
   "metadata": {},
   "outputs": [
    {
     "data": {
      "text/html": [
       "<div>\n",
       "<style scoped>\n",
       "    .dataframe tbody tr th:only-of-type {\n",
       "        vertical-align: middle;\n",
       "    }\n",
       "\n",
       "    .dataframe tbody tr th {\n",
       "        vertical-align: top;\n",
       "    }\n",
       "\n",
       "    .dataframe thead tr th {\n",
       "        text-align: left;\n",
       "    }\n",
       "\n",
       "    .dataframe thead tr:last-of-type th {\n",
       "        text-align: right;\n",
       "    }\n",
       "</style>\n",
       "<table border=\"1\" class=\"dataframe\">\n",
       "  <thead>\n",
       "    <tr>\n",
       "      <th></th>\n",
       "      <th colspan=\"2\" halign=\"left\">additives_min_dangerousness</th>\n",
       "      <th colspan=\"2\" halign=\"left\">additives_average_dangerousness</th>\n",
       "      <th colspan=\"2\" halign=\"left\">additives_max_dangerousness</th>\n",
       "      <th colspan=\"2\" halign=\"left\">additives_count</th>\n",
       "      <th colspan=\"2\" halign=\"left\">has_additives</th>\n",
       "    </tr>\n",
       "    <tr>\n",
       "      <th></th>\n",
       "      <th>mean</th>\n",
       "      <th>count</th>\n",
       "      <th>mean</th>\n",
       "      <th>count</th>\n",
       "      <th>mean</th>\n",
       "      <th>count</th>\n",
       "      <th>mean</th>\n",
       "      <th>count</th>\n",
       "      <th>mean</th>\n",
       "      <th>count</th>\n",
       "    </tr>\n",
       "    <tr>\n",
       "      <th>brands</th>\n",
       "      <th></th>\n",
       "      <th></th>\n",
       "      <th></th>\n",
       "      <th></th>\n",
       "      <th></th>\n",
       "      <th></th>\n",
       "      <th></th>\n",
       "      <th></th>\n",
       "      <th></th>\n",
       "      <th></th>\n",
       "    </tr>\n",
       "  </thead>\n",
       "  <tbody>\n",
       "    <tr>\n",
       "      <th>Monique Ranou</th>\n",
       "      <td>0.339623</td>\n",
       "      <td>106</td>\n",
       "      <td>1.291150</td>\n",
       "      <td>106</td>\n",
       "      <td>2.500000</td>\n",
       "      <td>106</td>\n",
       "      <td>3.150943</td>\n",
       "      <td>106</td>\n",
       "      <td>0.905660</td>\n",
       "      <td>106</td>\n",
       "    </tr>\n",
       "    <tr>\n",
       "      <th>Dia</th>\n",
       "      <td>0.320388</td>\n",
       "      <td>103</td>\n",
       "      <td>0.736730</td>\n",
       "      <td>103</td>\n",
       "      <td>1.213592</td>\n",
       "      <td>103</td>\n",
       "      <td>2.009709</td>\n",
       "      <td>103</td>\n",
       "      <td>0.582524</td>\n",
       "      <td>103</td>\n",
       "    </tr>\n",
       "    <tr>\n",
       "      <th>Leader Price</th>\n",
       "      <td>0.267677</td>\n",
       "      <td>198</td>\n",
       "      <td>0.711860</td>\n",
       "      <td>198</td>\n",
       "      <td>1.257576</td>\n",
       "      <td>198</td>\n",
       "      <td>1.893939</td>\n",
       "      <td>198</td>\n",
       "      <td>0.611111</td>\n",
       "      <td>198</td>\n",
       "    </tr>\n",
       "    <tr>\n",
       "      <th>Cora</th>\n",
       "      <td>0.211382</td>\n",
       "      <td>123</td>\n",
       "      <td>0.710548</td>\n",
       "      <td>123</td>\n",
       "      <td>1.300813</td>\n",
       "      <td>123</td>\n",
       "      <td>1.642276</td>\n",
       "      <td>123</td>\n",
       "      <td>0.593496</td>\n",
       "      <td>123</td>\n",
       "    </tr>\n",
       "    <tr>\n",
       "      <th>Hacendado</th>\n",
       "      <td>0.267717</td>\n",
       "      <td>127</td>\n",
       "      <td>0.616476</td>\n",
       "      <td>127</td>\n",
       "      <td>0.968504</td>\n",
       "      <td>127</td>\n",
       "      <td>1.472441</td>\n",
       "      <td>127</td>\n",
       "      <td>0.503937</td>\n",
       "      <td>127</td>\n",
       "    </tr>\n",
       "    <tr>\n",
       "      <th>Fleury Michon</th>\n",
       "      <td>0.003731</td>\n",
       "      <td>268</td>\n",
       "      <td>0.593781</td>\n",
       "      <td>268</td>\n",
       "      <td>1.261194</td>\n",
       "      <td>268</td>\n",
       "      <td>1.488806</td>\n",
       "      <td>268</td>\n",
       "      <td>0.817164</td>\n",
       "      <td>268</td>\n",
       "    </tr>\n",
       "    <tr>\n",
       "      <th>Casino</th>\n",
       "      <td>0.207273</td>\n",
       "      <td>275</td>\n",
       "      <td>0.538504</td>\n",
       "      <td>275</td>\n",
       "      <td>1.021818</td>\n",
       "      <td>275</td>\n",
       "      <td>1.683636</td>\n",
       "      <td>275</td>\n",
       "      <td>0.556364</td>\n",
       "      <td>275</td>\n",
       "    </tr>\n",
       "    <tr>\n",
       "      <th>U</th>\n",
       "      <td>0.180662</td>\n",
       "      <td>393</td>\n",
       "      <td>0.499027</td>\n",
       "      <td>393</td>\n",
       "      <td>0.903308</td>\n",
       "      <td>393</td>\n",
       "      <td>1.424936</td>\n",
       "      <td>393</td>\n",
       "      <td>0.496183</td>\n",
       "      <td>393</td>\n",
       "    </tr>\n",
       "    <tr>\n",
       "      <th>Auchan</th>\n",
       "      <td>0.140549</td>\n",
       "      <td>619</td>\n",
       "      <td>0.489472</td>\n",
       "      <td>619</td>\n",
       "      <td>0.964459</td>\n",
       "      <td>619</td>\n",
       "      <td>1.749596</td>\n",
       "      <td>619</td>\n",
       "      <td>0.542811</td>\n",
       "      <td>619</td>\n",
       "    </tr>\n",
       "    <tr>\n",
       "      <th>Carrefour</th>\n",
       "      <td>0.111920</td>\n",
       "      <td>1099</td>\n",
       "      <td>0.438895</td>\n",
       "      <td>1099</td>\n",
       "      <td>0.871702</td>\n",
       "      <td>1099</td>\n",
       "      <td>1.594177</td>\n",
       "      <td>1099</td>\n",
       "      <td>0.541401</td>\n",
       "      <td>1099</td>\n",
       "    </tr>\n",
       "  </tbody>\n",
       "</table>\n",
       "</div>"
      ],
      "text/plain": [
       "              additives_min_dangerousness        \\\n",
       "                                     mean count   \n",
       "brands                                            \n",
       "Monique Ranou                    0.339623   106   \n",
       "Dia                              0.320388   103   \n",
       "Leader Price                     0.267677   198   \n",
       "Cora                             0.211382   123   \n",
       "Hacendado                        0.267717   127   \n",
       "Fleury Michon                    0.003731   268   \n",
       "Casino                           0.207273   275   \n",
       "U                                0.180662   393   \n",
       "Auchan                           0.140549   619   \n",
       "Carrefour                        0.111920  1099   \n",
       "\n",
       "              additives_average_dangerousness        \\\n",
       "                                         mean count   \n",
       "brands                                                \n",
       "Monique Ranou                        1.291150   106   \n",
       "Dia                                  0.736730   103   \n",
       "Leader Price                         0.711860   198   \n",
       "Cora                                 0.710548   123   \n",
       "Hacendado                            0.616476   127   \n",
       "Fleury Michon                        0.593781   268   \n",
       "Casino                               0.538504   275   \n",
       "U                                    0.499027   393   \n",
       "Auchan                               0.489472   619   \n",
       "Carrefour                            0.438895  1099   \n",
       "\n",
       "              additives_max_dangerousness       additives_count        \\\n",
       "                                     mean count            mean count   \n",
       "brands                                                                  \n",
       "Monique Ranou                    2.500000   106        3.150943   106   \n",
       "Dia                              1.213592   103        2.009709   103   \n",
       "Leader Price                     1.257576   198        1.893939   198   \n",
       "Cora                             1.300813   123        1.642276   123   \n",
       "Hacendado                        0.968504   127        1.472441   127   \n",
       "Fleury Michon                    1.261194   268        1.488806   268   \n",
       "Casino                           1.021818   275        1.683636   275   \n",
       "U                                0.903308   393        1.424936   393   \n",
       "Auchan                           0.964459   619        1.749596   619   \n",
       "Carrefour                        0.871702  1099        1.594177  1099   \n",
       "\n",
       "              has_additives        \n",
       "                       mean count  \n",
       "brands                             \n",
       "Monique Ranou      0.905660   106  \n",
       "Dia                0.582524   103  \n",
       "Leader Price       0.611111   198  \n",
       "Cora               0.593496   123  \n",
       "Hacendado          0.503937   127  \n",
       "Fleury Michon      0.817164   268  \n",
       "Casino             0.556364   275  \n",
       "U                  0.496183   393  \n",
       "Auchan             0.542811   619  \n",
       "Carrefour          0.541401  1099  "
      ]
     },
     "execution_count": 317,
     "metadata": {},
     "output_type": "execute_result"
    }
   ],
   "source": [
    "a = df.groupby('brands')[['additives_min_dangerousness', 'additives_average_dangerousness', 'additives_max_dangerousness', 'additives_count', 'has_additives']] \\\n",
    "    .agg(['mean', 'count']).sort_values(by=('additives_average_dangerousness', 'mean'), ascending=False)\n",
    "a[a[('additives_count', 'count')] > 100].head(10)"
   ]
  },
  {
   "cell_type": "code",
   "execution_count": null,
   "metadata": {},
   "outputs": [],
   "source": [
    "# predicted = 'additives_count'\n",
    "\n",
    "# X = df[[predicted, 'palm_oil', 'nutriscore_fr_as_number', 'nova_group', 'ingredients_count', 'is_vegan', 'is_vegetarian']].dropna()\n",
    "# Y = X[predicted]\n",
    "# X = X.drop(columns=[predicted])\n",
    "\n",
    "# regressor = LinearRegression()\n",
    "# regressor.fit(np.array(X).reshape(-1, X.shape[1]), Y)\n",
    "# print(regressor.intercept_)\n",
    "# print(regressor.coef_)\n",
    "\n",
    "# pred = regressor.predict(X)\n",
    "\n",
    "# print(r2_score(Y, pred))"
   ]
  },
  {
   "cell_type": "code",
   "execution_count": null,
   "metadata": {},
   "outputs": [],
   "source": [
    "# bubble_chart_additives = df['additives'].str.split(pat=',').explode(ignore_index=True).value_counts().to_frame().reset_index()\n",
    "# bubble_chart_additives['dangerousness'] = bubble_chart_additives.apply(lambda r: ADDITIVES_DANGEROUSNESS.get(r['index'].split('-')[0].strip(), 0), axis=1)\n",
    "# bubble_chart_additives.columns = ['additive', 'count', 'dangerosity']\n",
    "# bubble_chart_additives['group'] = 1\n",
    "# bubble_chart_additives.to_json('graph/test.json', orient='records', indent=4)"
   ]
  },
  {
   "cell_type": "code",
   "execution_count": null,
   "metadata": {},
   "outputs": [],
   "source": [
    "bubble_chart_additives = df['additives'].str.split(pat=',').explode(ignore_index=True).value_counts().to_frame().reset_index()\n",
    "bubble_chart_additives['dangerousness'] = bubble_chart_additives.apply(lambda r: ADDITIVES_DANGEROUSNESS.get(r['index'].split('-')[0].strip(), 0), axis=1)\n",
    "bubble_chart_additives.columns = ['additive', 'count', 'dangerosity']\n",
    "bubble_chart_additives['group'] = 1\n",
    "bubble_chart_additives.to_json('graph/test.json', orient='records', indent=4)\n",
    "\n",
    "test2 = df.explode(['categories_splitted']).groupby('categories_splitted')['additives_average_dangerousness'].agg(['mean', 'count']).query('count > 25').reset_index()\n",
    "test2.columns = ['categories', 'dangerosity', 'count']\n",
    "test2['group'] = 1\n",
    "test2.to_json('test2.json', orient='records', indent=4)\n",
    "\n",
    "# test2 = df[['product_name', 'additives_average_dangerousness']]\n",
    "# test2.columns = ['product_name', 'dangerosity']\n",
    "# test2['group'] = 1\n",
    "# test2['count'] = 1\n",
    "# test2.to_json('test2.json', orient='records', indent=4)"
   ]
  }
 ],
 "metadata": {
  "kernelspec": {
   "display_name": "Python 3",
   "language": "python",
   "name": "python3"
  },
  "language_info": {
   "codemirror_mode": {
    "name": "ipython",
    "version": 3
   },
   "file_extension": ".py",
   "mimetype": "text/x-python",
   "name": "python",
   "nbconvert_exporter": "python",
   "pygments_lexer": "ipython3",
   "version": "3.11.2"
  },
  "orig_nbformat": 4
 },
 "nbformat": 4,
 "nbformat_minor": 2
}
