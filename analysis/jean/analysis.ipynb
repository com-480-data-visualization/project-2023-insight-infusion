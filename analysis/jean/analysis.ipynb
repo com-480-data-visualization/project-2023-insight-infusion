{
 "cells": [
  {
   "cell_type": "code",
   "execution_count": 2,
   "metadata": {},
   "outputs": [],
   "source": [
    "import pandas as pd\n",
    "import json\n",
    "pd.set_option('display.max_colwidth', None)\n",
    "pd.set_option('display.min_rows', 25)\n",
    "pd.set_option('display.max_columns', None)"
   ]
  },
  {
   "cell_type": "code",
   "execution_count": 3,
   "metadata": {},
   "outputs": [
    {
     "name": "stderr",
     "output_type": "stream",
     "text": [
      "/var/folders/fw/8nv4kg9x2zldk0jghwxdl49r0000gn/T/ipykernel_93174/3047891491.py:2: DtypeWarning: Columns (0) have mixed types. Specify dtype option on import or set low_memory=False.\n",
      "  df = pd.read_csv(FILENAME)\n"
     ]
    }
   ],
   "source": [
    "FILENAME = '../../datasets/products_0.995_cleaned.csv'\n",
    "df = pd.read_csv(FILENAME)"
   ]
  },
  {
   "attachments": {},
   "cell_type": "markdown",
   "metadata": {},
   "source": [
    "# Preprocessing"
   ]
  },
  {
   "cell_type": "code",
   "execution_count": 4,
   "metadata": {},
   "outputs": [],
   "source": [
    "def to_json(df: pd.DataFrame, filename): df.to_json(filename, indent=4, orient='records')"
   ]
  },
  {
   "attachments": {},
   "cell_type": "markdown",
   "metadata": {},
   "source": [
    "## Adding additives danger"
   ]
  },
  {
   "cell_type": "code",
   "execution_count": 5,
   "metadata": {},
   "outputs": [],
   "source": [
    "with open('additives_danger.json', 'r') as json_file:\n",
    "    ADDITIVES_DANGER = { additive['code']: 4 - additive['danger'] for additive in json.load(json_file) }\n",
    "\n",
    "\n",
    "NOT_FOUND = []\n",
    "def get_codes_by_level(level: int) -> list[str]:\n",
    "    return [k for k,v in ADDITIVES_DANGER if v == level]\n",
    "\n",
    "def get_danger(additives):\n",
    "    if type(additives) != str: return 0, 0, 0\n",
    "    dangeres = []\n",
    "    n = 0\n",
    "    for additive in additives.split(','):\n",
    "        code = additive.split('-')[0].strip()\n",
    "        if code in ADDITIVES_DANGER:\n",
    "            dangeres.append(ADDITIVES_DANGER[code])\n",
    "            n += 1\n",
    "    if len(dangeres) == 0: return 0, 0, 0\n",
    "    return min(dangeres), sum(dangeres) / n, max(dangeres)\n",
    "\n",
    "\n",
    "df[['additives_min_danger', 'additives_average_danger', 'additives_max_danger']] = df.apply(lambda r: get_danger(r['additives']), axis=1, result_type=\"expand\")"
   ]
  },
  {
   "cell_type": "code",
   "execution_count": 6,
   "metadata": {},
   "outputs": [],
   "source": [
    "def get_additives_count_hazard(additives, level):\n",
    "    if type(additives) != str: return 0\n",
    "    hazard = 0\n",
    "    for additive in additives.split(','):\n",
    "        code = additive.split('-')[0].strip()\n",
    "        if ADDITIVES_DANGER.get(code, -1) == level: hazard += 1\n",
    "    return hazard\n",
    "\n",
    "df['additives_0_count'] = df.apply(lambda r: get_additives_count_hazard(r['additives'], 0), axis=1)\n",
    "df['additives_1_count'] = df.apply(lambda r: get_additives_count_hazard(r['additives'], 1), axis=1)\n",
    "df['additives_2_count'] = df.apply(lambda r: get_additives_count_hazard(r['additives'], 2), axis=1)\n",
    "df['additives_3_count'] = df.apply(lambda r: get_additives_count_hazard(r['additives'], 3), axis=1)"
   ]
  },
  {
   "cell_type": "code",
   "execution_count": 7,
   "metadata": {},
   "outputs": [],
   "source": [
    "df['has_additives'] = df['additives'].notna()\n",
    "df['has_additives_3'] = df['additives_3_count'] != 0\n",
    "df['additives_count'] = df['additives'].apply(lambda x: len(x.split(',')) if type(x) == str else 0)\n",
    "df['ingredients_count'] = df['ingredients_tags'].apply(lambda x: len(x.split(',')) if type(x) == str else 0)"
   ]
  },
  {
   "attachments": {},
   "cell_type": "markdown",
   "metadata": {},
   "source": [
    "# Analysis"
   ]
  },
  {
   "attachments": {},
   "cell_type": "markdown",
   "metadata": {},
   "source": [
    "## Introduction\n",
    "Additives are substances that are added to food products during processing to maintain or improve certain properties such as appearance, freshness, taste or texture.\n",
    "\n",
    "The development of food consumption habits has required a transformation of the food industry which must produce in greater quantities.\n",
    "\n",
    "Thus, additives are sometimes necessary to ensure that processed foods remain safe and wholesome throughout their journey from factories through transportation to warehouses and stores to consumers.\n",
    "\n",
    "Nevertheless, many products contain non-essential additives that do not serve a necessary need but are present only to embellish the product, to make it more attractive either its taste or its appearance (artificial sweeteners, food colorings, and flavor enhancers). Other products contain preservatives to increase the shelf life of the product.\n",
    "\n",
    "[1] https://food.ec.europa.eu/safety/food-improvement-agents/additives_en \n",
    "\n",
    "[2] https://www.who.int/news-room/fact-sheets/detail/food-additives\n",
    "\n",
    "[3] https://www.fda.gov/food/food-ingredients-packaging/overview-food-ingredients-additives-colors\n"
   ]
  },
  {
   "cell_type": "code",
   "execution_count": 8,
   "metadata": {},
   "outputs": [],
   "source": [
    "bubble_chart_additives = df['additives'].str.split(pat=',').explode(ignore_index=True).value_counts().to_frame().reset_index().head(50)\n",
    "bubble_chart_additives['danger'] = bubble_chart_additives.apply(lambda r: ADDITIVES_DANGER.get(r['index'].split('-')[0].strip(), 0), axis=1)\n",
    "bubble_chart_additives.columns = ['additive', 'count', 'dangerosity']\n",
    "to_json(bubble_chart_additives, 'graph/bubble_chart_additives.json')"
   ]
  },
  {
   "attachments": {},
   "cell_type": "markdown",
   "metadata": {},
   "source": [
    "## Dangeroussness"
   ]
  },
  {
   "attachments": {},
   "cell_type": "markdown",
   "metadata": {},
   "source": [
    "Nevertheless, many additives present health risks and it is important to be aware of the products we consume. Organizations such as the World Health Organization (WHO), the Food Drug Administration (FDA) in the United States or the European Food Safety Authority (EFSA) evaluate and regulate the use of additives and put in place restrictions on quantities. \n",
    "\n",
    "Nevertheless, some of these substances still present risks and many scientific studies show a correlation between high consumption of certain additives and adverse health effects such as increased risk of cardiovascular disease and cancer.\n",
    "\n",
    "For our project, we used data from the company Yuka, which reviewed numerous scientific studies [4] on the effects of additive consumption in order to assign a score to each of them according to their dangerousness :\n",
    "- 0 : No risk\n",
    "- 1 : Limited risk\n",
    "- 2 : Moderate risk\n",
    "- 3 : Hazardous\n",
    "\n",
    "[4] https://help.yuka.io/l/fr/article/bf5vi9gytc"
   ]
  },
  {
   "cell_type": "code",
   "execution_count": 9,
   "metadata": {},
   "outputs": [
    {
     "name": "stdout",
     "output_type": "stream",
     "text": [
      "0.45714986309207567\n",
      "0.1955126895255221\n",
      "3.0057214375111747\n"
     ]
    }
   ],
   "source": [
    "print(df['has_additives'].mean())\n",
    "print(df['has_additives_3'].mean())\n",
    "print(df[df['has_additives']]['additives_count'].mean())"
   ]
  },
  {
   "attachments": {},
   "cell_type": "markdown",
   "metadata": {},
   "source": [
    "## Food categories"
   ]
  },
  {
   "attachments": {},
   "cell_type": "markdown",
   "metadata": {},
   "source": [
    "The presence and the danger of additives depend strongly on the categories of products. Indeed, we find much more additives in cold cuts, sweetened drinks and ready-made meals than in vegetables, pasta and vegetable milks for example.\n",
    "\n",
    "The following graph shows these two variables, the presence (radius) and the dangerousness (color) by product category. We can clearly observe that the delicatessen and the sodas represent the most dangerous products."
   ]
  },
  {
   "cell_type": "code",
   "execution_count": 10,
   "metadata": {},
   "outputs": [],
   "source": [
    "df['categories_splitted'] = df['categories'].str.split(',')\n",
    "\n",
    "bubble_chart_categories = df.explode(['categories_splitted']).groupby('categories_splitted')['additives_average_danger'].agg(['mean', 'count']).query('count > 25').reset_index()\n",
    "bubble_chart_categories.columns = ['categories', 'dangerosity', 'count']\n",
    "bubble_chart_categories['group'] = 1\n",
    "to_json(bubble_chart_categories, 'graph/bubble_chart_categories.json')"
   ]
  },
  {
   "attachments": {},
   "cell_type": "markdown",
   "metadata": {},
   "source": [
    "## NOVA Index"
   ]
  },
  {
   "attachments": {},
   "cell_type": "markdown",
   "metadata": {},
   "source": [
    "The NOVA index is used to indicate how processed a product is. Product processing is a broad term that can mean mixing different products to create a new one as well as several processing steps such as cooking, freezing, drying, fermenting and, of course, adding additives. \n",
    "- 1 : Unprocessed or minimally processed foods\n",
    "- 2 : Processed culinary ingredients\n",
    "- 3 : Processed foods\n",
    "- 4 : Ultra-processed food and drink products\n",
    "\n",
    "[5] https://world.openfoodfacts.org/nova"
   ]
  },
  {
   "cell_type": "code",
   "execution_count": 11,
   "metadata": {},
   "outputs": [],
   "source": [
    "df.groupby('nova_group')[['additives_0_count', 'additives_1_count', 'additives_2_count', 'additives_3_count']] \\\n",
    "    .mean() \\\n",
    "    .reset_index() \\\n",
    "    .to_json('graph/nova_stacked_bar_chart.json', indent=4, orient='records')"
   ]
  },
  {
   "attachments": {},
   "cell_type": "markdown",
   "metadata": {},
   "source": [
    "As shown in the graph opposite, ultra-processed products contain significantly more additives than other products and also a higher proportion of hazardous additives. Here are some key facts about the impact of product processing:"
   ]
  },
  {
   "cell_type": "code",
   "execution_count": 28,
   "metadata": {},
   "outputs": [
    {
     "name": "stdout",
     "output_type": "stream",
     "text": [
      "57.54998675635629\n",
      "7.404296758402484\n",
      "1160.1314470881543\n",
      "460.8563230413776\n"
     ]
    }
   ],
   "source": [
    "print(df[(df['nova_group'] == 4)]['additives_count'].mean() / df[(df['nova_group'] == 1)]['additives_count'].mean())\n",
    "print(df[(df['nova_group'] == 4) & (df['has_additives'] == True)]['additives_3_count'].mean() / df[(df['nova_group'] == 1) & (df['has_additives'] == True)]['additives_3_count'].mean())\n",
    "print((df[(df['nova_group'] == 4)]['additives_count'].mean() / df[(df['nova_group'] < 4)]['additives_count'].mean() - 1) * 100)\n",
    "print((df[(df['nova_group'] == 4)]['additives_average_danger'].mean() / df[(df['nova_group'] < 4)]['additives_average_danger'].mean() - 1) * 100)"
   ]
  },
  {
   "attachments": {},
   "cell_type": "markdown",
   "metadata": {},
   "source": [
    "## Vegan and Vegetarian"
   ]
  },
  {
   "attachments": {},
   "cell_type": "markdown",
   "metadata": {},
   "source": [
    "The results of the product category analyses on the high presence of additives in meat products led us to analyze the impact of different diets. \n",
    "The vegetarian diet consists in avoiding all animal flesh (meat, fish, seafood, poultry, etc.).  The vegan diet is an addition to vegetarianism by abstaining from all animal products (milk, eggs, etc.). \n",
    "\n",
    "As shown in the two graphs on the left, a vegetarian or vegan diet can significantly reduce the number and dangerousness of the additives consumed.\n",
    "\n",
    "As usual, here are some key figures"
   ]
  },
  {
   "cell_type": "code",
   "execution_count": 41,
   "metadata": {},
   "outputs": [],
   "source": [
    "df['is_meat_based'] = df['categories'].str.contains('meat')\n",
    "\n",
    "def get_vegan(df: pd.DataFrame) -> pd.DataFrame:\n",
    "    return df[df['is_vegan'] == True]\n",
    "\n",
    "def get_non_vegan(df: pd.DataFrame) -> pd.DataFrame:\n",
    "    return df[df['is_vegan'] == False]\n",
    "\n",
    "def get_vegetarian(df: pd.DataFrame) -> pd.DataFrame:\n",
    "    return df[df['is_vegetarian'] == True]\n",
    "\n",
    "def get_non_vegetarian(df: pd.DataFrame) -> pd.DataFrame:\n",
    "    return df[df['is_vegetarian'] == False]\n",
    "\n",
    "def get_vegan_or_vegetarian(df: pd.DataFrame) -> pd.DataFrame:\n",
    "    return df[(df['is_vegan'] == True) | (df['is_vegetarian'] == True)]\n",
    "\n",
    "def get_non_vegan_and_non_vegetarian(df: pd.DataFrame) -> pd.DataFrame:\n",
    "    return df[(df['is_vegan'] == False) & (df['is_vegetarian'] == False)]\n",
    "\n",
    "def get_meat_based_products(df: pd.DataFrame) -> pd.DataFrame:\n",
    "    return df[df['is_meat_based'] == True]\n",
    "\n",
    "def get_non_meat_based_products(df: pd.DataFrame) -> pd.DataFrame:\n",
    "    return df[df['is_meat_based'] == False]\n",
    "\n",
    "def get_above_dangerosity(df: pd.DataFrame, dangerosity: int) -> pd.DataFrame:\n",
    "    return df[df['additives_min_danger'] > dangerosity]"
   ]
  },
  {
   "cell_type": "code",
   "execution_count": 31,
   "metadata": {},
   "outputs": [],
   "source": [
    "labels = ['Meat based products', 'All products', 'Vegetarian', 'Vegan', 'Vegetarian or Vegan']\n",
    "average_additives_counts = [\n",
    "    get_meat_based_products(df)['additives_count'].mean(),\n",
    "    df['additives_count'].mean(),\n",
    "    get_vegetarian(df)['additives_count'].mean(),\n",
    "    get_vegan(df)['additives_count'].mean(),\n",
    "    get_vegan_or_vegetarian(df)['additives_count'].mean()\n",
    "]\n",
    "pd.DataFrame({\n",
    "    'label': labels,\n",
    "    'average_additives_count': average_additives_counts,\n",
    "}).to_json('graph/vegetarian_vegan_additives_count.json', indent=4, orient='records')"
   ]
  },
  {
   "cell_type": "code",
   "execution_count": 33,
   "metadata": {},
   "outputs": [],
   "source": [
    "labels = ['Meat based products', 'All products', 'Vegetarian', 'Vegan', 'Vegetarian or Vegan']\n",
    "average_hazards = [\n",
    "    get_meat_based_products(df)['additives_average_danger'].mean(),\n",
    "    df['additives_average_danger'].mean(),\n",
    "    get_vegetarian(df)['additives_average_danger'].mean(),\n",
    "    get_vegan(df)['additives_average_danger'].mean(),\n",
    "    get_vegan_or_vegetarian(df)['additives_average_danger'].mean()\n",
    "]\n",
    "pd.DataFrame({\n",
    "    'label': labels,\n",
    "    'average_hazard': average_hazards\n",
    "}).to_json('graph/vegetarian_vegan_average_hazards.json', indent=4, orient='records')"
   ]
  },
  {
   "cell_type": "code",
   "execution_count": 43,
   "metadata": {},
   "outputs": [
    {
     "name": "stdout",
     "output_type": "stream",
     "text": [
      "26.241721854304632\n",
      "71.41414141414143\n"
     ]
    }
   ],
   "source": [
    "print(df['is_meat_based'].mean() * 100)\n",
    "print(get_above_dangerosity(get_meat_based_products(df), 2)['additives_count'].sum() / get_above_dangerosity(df, 2)['additives_count'].sum() * 100)"
   ]
  },
  {
   "cell_type": "code",
   "execution_count": 44,
   "metadata": {},
   "outputs": [
    {
     "name": "stdout",
     "output_type": "stream",
     "text": [
      "405.15044424284133\n"
     ]
    }
   ],
   "source": [
    "print((get_meat_based_products(df)['additives_count'].mean() / get_non_meat_based_products(df)['additives_count'].mean() - 1) * 100)"
   ]
  },
  {
   "cell_type": "code",
   "execution_count": 46,
   "metadata": {},
   "outputs": [
    {
     "name": "stdout",
     "output_type": "stream",
     "text": [
      "3.45489107452079\n"
     ]
    }
   ],
   "source": [
    "print(get_meat_based_products(df)['additives_average_danger'].mean() / get_non_meat_based_products(df)['additives_average_danger'].mean())"
   ]
  },
  {
   "cell_type": "code",
   "execution_count": 48,
   "metadata": {},
   "outputs": [
    {
     "name": "stdout",
     "output_type": "stream",
     "text": [
      "-76.15582617330767\n"
     ]
    }
   ],
   "source": [
    "print((get_vegetarian(df)['additives_3_count'].mean() / df['additives_3_count'].mean() - 1) * 100)"
   ]
  },
  {
   "cell_type": "code",
   "execution_count": 49,
   "metadata": {},
   "outputs": [
    {
     "name": "stdout",
     "output_type": "stream",
     "text": [
      "-81.19117488055899\n"
     ]
    }
   ],
   "source": [
    "print((get_vegan(df)['additives_3_count'].mean() / df['additives_3_count'].mean() - 1) * 100)"
   ]
  },
  {
   "cell_type": "code",
   "execution_count": 57,
   "metadata": {},
   "outputs": [
    {
     "name": "stdout",
     "output_type": "stream",
     "text": [
      "1.7550443886560905\n"
     ]
    }
   ],
   "source": [
    "print(df['additives_count'].mean() / get_vegetarian(df)['additives_count'].mean())"
   ]
  },
  {
   "attachments": {},
   "cell_type": "markdown",
   "metadata": {},
   "source": [
    "## Nutriscore"
   ]
  },
  {
   "attachments": {},
   "cell_type": "markdown",
   "metadata": {},
   "source": [
    "The nutriscore is an index that provides information on the nutritional quality of food products. It was created in 2017 in France but is used in many other countries (Belgium, Spain, Luxembourg, Germany, Netherlands, ...). The nutriscore goes from A (good nutritional quality) to E (poor nutritional quality). Although the nutriscore is not directly related to the presence or absence of additives, a strong correlation can be observed between the nutriscore index and the presence and dangerousness of additives in products.\n",
    "\n",
    "[6] https://www.santepubliquefrance.fr/determinants-de-sante/nutrition-et-activite-physique/articles/nutri-score"
   ]
  },
  {
   "cell_type": "code",
   "execution_count": 58,
   "metadata": {},
   "outputs": [],
   "source": [
    "df.groupby('nutriscore_fr')[['additives_0_count', 'additives_1_count', 'additives_2_count', 'additives_3_count']].mean().reset_index().to_json('graph/nutriscore_stacked_bar_chart.json', indent=4, orient='records')"
   ]
  },
  {
   "cell_type": "code",
   "execution_count": 67,
   "metadata": {},
   "outputs": [
    {
     "name": "stdout",
     "output_type": "stream",
     "text": [
      "3.590893363455362\n",
      "4.6219489849590385\n",
      "-35.096925613275445\n",
      "-47.689800106547175\n"
     ]
    }
   ],
   "source": [
    "print(df[df['nutriscore_fr'] == 'E']['additives_count'].mean() / df[df['nutriscore_fr'] == 'A']['additives_count'].mean())\n",
    "print(df[df['nutriscore_fr'] == 'E']['additives_average_danger'].mean() / df[df['nutriscore_fr'] == 'A']['additives_average_danger'].mean())\n",
    "print((df[~df['nutriscore_fr'].isin(['D', 'E'])]['additives_count'].mean() / df[df['nutriscore_fr'].isin(['D', 'E'])]['additives_count'].mean() - 1) * 100)\n",
    "print((df[~df['nutriscore_fr'].isin(['D', 'E'])]['additives_average_danger'].mean() / df[df['nutriscore_fr'].isin(['D', 'E'])]['additives_average_danger'].mean() - 1) * 100)"
   ]
  }
 ],
 "metadata": {
  "kernelspec": {
   "display_name": "Python 3",
   "language": "python",
   "name": "python3"
  },
  "language_info": {
   "codemirror_mode": {
    "name": "ipython",
    "version": 3
   },
   "file_extension": ".py",
   "mimetype": "text/x-python",
   "name": "python",
   "nbconvert_exporter": "python",
   "pygments_lexer": "ipython3",
   "version": "3.11.2"
  },
  "orig_nbformat": 4
 },
 "nbformat": 4,
 "nbformat_minor": 2
}
