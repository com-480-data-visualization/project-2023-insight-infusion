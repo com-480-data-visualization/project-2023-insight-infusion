{
 "cells": [
  {
   "cell_type": "code",
   "execution_count": 10,
   "metadata": {},
   "outputs": [],
   "source": [
    "import pandas as pd\n",
    "import json\n",
    "pd.set_option('display.max_colwidth', None)\n",
    "pd.set_option('display.min_rows', 25)\n",
    "pd.set_option('display.max_columns', None)"
   ]
  },
  {
   "cell_type": "code",
   "execution_count": 11,
   "metadata": {},
   "outputs": [
    {
     "name": "stderr",
     "output_type": "stream",
     "text": [
      "/var/folders/fw/8nv4kg9x2zldk0jghwxdl49r0000gn/T/ipykernel_62087/3047891491.py:2: DtypeWarning: Columns (0) have mixed types. Specify dtype option on import or set low_memory=False.\n",
      "  df = pd.read_csv(FILENAME)\n"
     ]
    }
   ],
   "source": [
    "FILENAME = '../../datasets/products_0.995_cleaned.csv'\n",
    "df = pd.read_csv(FILENAME)"
   ]
  },
  {
   "attachments": {},
   "cell_type": "markdown",
   "metadata": {},
   "source": [
    "# Preprocessing"
   ]
  },
  {
   "cell_type": "code",
   "execution_count": 12,
   "metadata": {},
   "outputs": [],
   "source": [
    "def to_json(df: pd.DataFrame, filename): df.to_json(filename, indent=4, orient='records')"
   ]
  },
  {
   "attachments": {},
   "cell_type": "markdown",
   "metadata": {},
   "source": [
    "## Adding additives danger"
   ]
  },
  {
   "cell_type": "code",
   "execution_count": 13,
   "metadata": {},
   "outputs": [],
   "source": [
    "with open('additives_danger.json', 'r') as json_file:\n",
    "    ADDITIVES_DANGER = { additive['code']: 4 - additive['danger'] for additive in json.load(json_file) }\n",
    "\n",
    "\n",
    "NOT_FOUND = []\n",
    "def get_codes_by_level(level: int) -> list[str]:\n",
    "    return [k for k,v in ADDITIVES_DANGER if v == level]\n",
    "\n",
    "def get_danger(additives):\n",
    "    if type(additives) != str: return 0, 0, 0\n",
    "    dangeres = []\n",
    "    n = 0\n",
    "    for additive in additives.split(','):\n",
    "        code = additive.split('-')[0].strip()\n",
    "        if code in ADDITIVES_DANGER:\n",
    "            dangeres.append(ADDITIVES_DANGER[code])\n",
    "            n += 1\n",
    "    if len(dangeres) == 0: return 0, 0, 0\n",
    "    return min(dangeres), sum(dangeres) / n, max(dangeres)\n",
    "\n",
    "\n",
    "df[['additives_min_danger', 'additives_average_danger', 'additives_max_danger']] = df.apply(lambda r: get_danger(r['additives']), axis=1, result_type=\"expand\")"
   ]
  },
  {
   "cell_type": "code",
   "execution_count": 14,
   "metadata": {},
   "outputs": [],
   "source": [
    "def get_additives_count_hazard(additives, level):\n",
    "    if type(additives) != str: return 0\n",
    "    hazard = 0\n",
    "    for additive in additives.split(','):\n",
    "        code = additive.split('-')[0].strip()\n",
    "        if ADDITIVES_DANGER.get(code, -1) == level: hazard += 1\n",
    "    return hazard\n",
    "\n",
    "df['additives_0_count'] = df.apply(lambda r: get_additives_count_hazard(r['additives'], 0), axis=1)\n",
    "df['additives_1_count'] = df.apply(lambda r: get_additives_count_hazard(r['additives'], 1), axis=1)\n",
    "df['additives_2_count'] = df.apply(lambda r: get_additives_count_hazard(r['additives'], 2), axis=1)\n",
    "df['additives_3_count'] = df.apply(lambda r: get_additives_count_hazard(r['additives'], 3), axis=1)"
   ]
  },
  {
   "cell_type": "code",
   "execution_count": 21,
   "metadata": {},
   "outputs": [],
   "source": [
    "df['has_additives'] = df['additives'].notna()\n",
    "df['has_additives_3'] = df['additives_3_count'] != 0\n",
    "df['additives_count'] = df['additives'].apply(lambda x: len(x.split(',')) if type(x) == str else 0)\n",
    "df['ingredients_count'] = df['ingredients_tags'].apply(lambda x: len(x.split(',')) if type(x) == str else 0)"
   ]
  },
  {
   "attachments": {},
   "cell_type": "markdown",
   "metadata": {},
   "source": [
    "# Analysis"
   ]
  },
  {
   "attachments": {},
   "cell_type": "markdown",
   "metadata": {},
   "source": [
    "## Introduction\n",
    "Additives are substances that are added to food products during processing to maintain or improve certain properties such as appearance, freshness, taste or texture.\n",
    "\n",
    "The development of food consumption habits has required a transformation of the food industry which must produce in greater quantities.\n",
    "\n",
    "Thus, additives are sometimes necessary to ensure that processed foods remain safe and wholesome throughout their journey from factories through transportation to warehouses and stores to consumers.\n",
    "\n",
    "Nevertheless, many products contain non-essential additives that do not serve a necessary need but are present only to embellish the product, to make it more attractive either its taste or its appearance (artificial sweeteners, food colorings, and flavor enhancers). Other products contain preservatives to increase the shelf life of the product.\n",
    "\n",
    "[1] https://food.ec.europa.eu/safety/food-improvement-agents/additives_en \n",
    "\n",
    "[2] https://www.who.int/news-room/fact-sheets/detail/food-additives\n",
    "\n",
    "[3] https://www.fda.gov/food/food-ingredients-packaging/overview-food-ingredients-additives-colors\n"
   ]
  },
  {
   "cell_type": "code",
   "execution_count": 16,
   "metadata": {},
   "outputs": [],
   "source": [
    "bubble_chart_additives = df['additives'].str.split(pat=',').explode(ignore_index=True).value_counts().to_frame().reset_index().head(50)\n",
    "bubble_chart_additives['danger'] = bubble_chart_additives.apply(lambda r: ADDITIVES_DANGER.get(r['index'].split('-')[0].strip(), 0), axis=1)\n",
    "bubble_chart_additives.columns = ['additive', 'count', 'dangerosity']\n",
    "to_json(bubble_chart_additives, 'graph/bubble_chart_additives.json')"
   ]
  },
  {
   "attachments": {},
   "cell_type": "markdown",
   "metadata": {},
   "source": [
    "## Dangeroussness"
   ]
  },
  {
   "attachments": {},
   "cell_type": "markdown",
   "metadata": {},
   "source": [
    "Nevertheless, many additives present health risks and it is important to be aware of the products we consume. Organizations such as the World Health Organization (WHO), the Food Drug Administration (FDA) in the United States or the European Food Safety Authority (EFSA) evaluate and regulate the use of additives and put in place restrictions on quantities. \n",
    "\n",
    "Nevertheless, some of these substances still present risks and many scientific studies show a correlation between high consumption of certain additives and adverse health effects such as increased risk of cardiovascular disease and cancer.\n",
    "\n",
    "For our project, we used data from the company Yuka, which reviewed numerous scientific studies [4] on the effects of additive consumption in order to assign a score to each of them according to their dangerousness :\n",
    "- 0 : No risk\n",
    "- 1 : Limited risk\n",
    "- 2 : Moderate risk\n",
    "- 3 : Hazardous\n",
    "\n",
    "[4] https://help.yuka.io/l/fr/article/bf5vi9gytc"
   ]
  },
  {
   "cell_type": "code",
   "execution_count": 24,
   "metadata": {},
   "outputs": [
    {
     "name": "stdout",
     "output_type": "stream",
     "text": [
      "0.45714986309207567\n",
      "0.1955126895255221\n",
      "3.0057214375111747\n"
     ]
    }
   ],
   "source": [
    "print(df['has_additives'].mean())\n",
    "print(df['has_additives_3'].mean())\n",
    "print(df[df['has_additives']]['additives_count'].mean())"
   ]
  },
  {
   "attachments": {},
   "cell_type": "markdown",
   "metadata": {},
   "source": [
    "## Food categories"
   ]
  },
  {
   "attachments": {},
   "cell_type": "markdown",
   "metadata": {},
   "source": [
    "The presence and the danger of additives depend strongly on the categories of products. Indeed, we find much more additives in cold cuts, sweetened drinks and ready-made meals than in vegetables, pasta and vegetable milks for example.\n",
    "\n",
    "The following graph shows these two variables, the presence (radius) and the dangerousness (color) by product category. We can clearly observe that the delicatessen and the sodas represent the most dangerous products."
   ]
  },
  {
   "cell_type": "code",
   "execution_count": 27,
   "metadata": {},
   "outputs": [],
   "source": [
    "df['categories_splitted'] = df['categories'].str.split(',')\n",
    "\n",
    "bubble_chart_categories = df.explode(['categories_splitted']).groupby('categories_splitted')['additives_average_danger'].agg(['mean', 'count']).query('count > 25').reset_index()\n",
    "bubble_chart_categories.columns = ['categories', 'dangerosity', 'count']\n",
    "bubble_chart_categories['group'] = 1\n",
    "to_json(bubble_chart_categories, 'graph/bubble_chart_categories.json')"
   ]
  },
  {
   "attachments": {},
   "cell_type": "markdown",
   "metadata": {},
   "source": [
    "## NOVA Index"
   ]
  },
  {
   "attachments": {},
   "cell_type": "markdown",
   "metadata": {},
   "source": [
    "The NOVA index is used to indicate how processed a product is. Product processing is a broad term that can mean mixing different products to create a new one as well as several processing steps such as cooking, freezing, drying, fermenting and, of course, adding additives. \n",
    "- 1 : Unprocessed or minimally processed foods\n",
    "- 2 : Processed culinary ingredients\n",
    "- 3 : Processed foods\n",
    "- 4 : Ultra-processed food and drink products\n",
    "\n",
    "[5] https://world.openfoodfacts.org/nova"
   ]
  },
  {
   "cell_type": "code",
   "execution_count": 28,
   "metadata": {},
   "outputs": [],
   "source": [
    "df.groupby('nova_group')[['additives_0_count', 'additives_1_count', 'additives_2_count', 'additives_3_count']] \\\n",
    "    .mean() \\\n",
    "    .reset_index() \\\n",
    "    .to_json('graph/nova_stacked_bar_chart.json', indent=4, orient='records')"
   ]
  },
  {
   "attachments": {},
   "cell_type": "markdown",
   "metadata": {},
   "source": [
    "> Explain graph"
   ]
  },
  {
   "cell_type": "code",
   "execution_count": null,
   "metadata": {},
   "outputs": [],
   "source": []
  },
  {
   "attachments": {},
   "cell_type": "markdown",
   "metadata": {},
   "source": [
    "## Vegan and Vegetarian"
   ]
  }
 ],
 "metadata": {
  "kernelspec": {
   "display_name": "Python 3",
   "language": "python",
   "name": "python3"
  },
  "language_info": {
   "codemirror_mode": {
    "name": "ipython",
    "version": 3
   },
   "file_extension": ".py",
   "mimetype": "text/x-python",
   "name": "python",
   "nbconvert_exporter": "python",
   "pygments_lexer": "ipython3",
   "version": "3.11.2"
  },
  "orig_nbformat": 4
 },
 "nbformat": 4,
 "nbformat_minor": 2
}
