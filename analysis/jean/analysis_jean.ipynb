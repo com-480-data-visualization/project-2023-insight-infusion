{
 "cells": [
  {
   "cell_type": "code",
   "execution_count": 1,
   "metadata": {},
   "outputs": [],
   "source": [
    "import pandas as pd\n",
    "import json\n",
    "pd.set_option('display.max_colwidth', None)\n",
    "pd.set_option('display.min_rows', 60)"
   ]
  },
  {
   "cell_type": "code",
   "execution_count": 2,
   "metadata": {},
   "outputs": [
    {
     "name": "stderr",
     "output_type": "stream",
     "text": [
      "/var/folders/fw/8nv4kg9x2zldk0jghwxdl49r0000gn/T/ipykernel_47159/3047891491.py:2: DtypeWarning: Columns (0) have mixed types. Specify dtype option on import or set low_memory=False.\n",
      "  df = pd.read_csv(FILENAME)\n"
     ]
    }
   ],
   "source": [
    "FILENAME = '../../datasets/products_0.995_cleaned.csv'\n",
    "df = pd.read_csv(FILENAME)"
   ]
  },
  {
   "attachments": {},
   "cell_type": "markdown",
   "metadata": {},
   "source": [
    "### Bubble chart (circle packing) of additives\n",
    "\n",
    "Based on https://observablehq.com/@d3/bubble-chart\n",
    "\n",
    "<img src=\"bubble-additives.png\" width=\"500\">"
   ]
  },
  {
   "cell_type": "code",
   "execution_count": 6,
   "metadata": {},
   "outputs": [],
   "source": [
    "threshold = 100\n",
    "\n",
    "bubble_additives = df['additives'].str.split(pat=',').explode(ignore_index=True).value_counts().to_frame().reset_index()\n",
    "bubble_additives.drop(bubble_additives[bubble_additives.additives < threshold].index, inplace = True)\n",
    "bubble_additives.to_json('bubble_additives.json', orient='records', indent=4)"
   ]
  },
  {
   "attachments": {},
   "cell_type": "markdown",
   "metadata": {},
   "source": [
    "### Treemap of additives by category (meats, snacks, beverages, ...)\n",
    "\n",
    "Based on https://observablehq.com/@d3/json-treemap\n",
    "\n",
    "<img src=\"treemap-additives.png\" width=\"500\">"
   ]
  },
  {
   "cell_type": "code",
   "execution_count": 4,
   "metadata": {},
   "outputs": [],
   "source": [
    "treemap_additives = {\"name\": \"additives\", \"children\": []}\n",
    "for category in df['main_category'].value_counts().nlargest(10).index.values:\n",
    "    d = df[df['main_category'] == category]['additives'].str.split(',').explode().value_counts().nlargest(5).to_dict()\n",
    "    treemap_additives['children'].append({\n",
    "        \"name\": category,\n",
    "        \"children\": [{\n",
    "            'name': k, 'value': v\n",
    "        } for k,v in d.items()]\n",
    "    })\n",
    "with open('treemap_additives.json', 'w') as json_file: \n",
    "    json.dump(treemap_additives, json_file, indent=4)"
   ]
  },
  {
   "attachments": {},
   "cell_type": "markdown",
   "metadata": {},
   "source": [
    "### Force-Directed Graph between additives\n",
    "\n",
    "Based on https://observablehq.com/@d3/force-directed-graph\n",
    "\n",
    "<img src=\"force-directed-additives.png\" width=\"500\">"
   ]
  },
  {
   "cell_type": "code",
   "execution_count": 5,
   "metadata": {},
   "outputs": [],
   "source": [
    "from itertools import combinations\n",
    "\n",
    "force_directed_graph_ = {\n",
    "    'nodes': [],\n",
    "    'links': []\n",
    "}\n",
    "\n",
    "threshold = 100\n",
    "\n",
    "additives_links = df['additives'] \\\n",
    "    .str.split(',') \\\n",
    "    .apply(lambda a: list(combinations(a, 2)) if type(a) != float else []) \\\n",
    "    .explode() \\\n",
    "    .value_counts() \\\n",
    "    .to_frame() \\\n",
    "    .reset_index()\n",
    "\n",
    "additives_links.columns = ['additives', 'value']\n",
    "additives_links[['source', 'target']] = additives_links['additives'].apply(pd.Series)\n",
    "additives_links.drop(['additives'], axis=1, inplace=True)\n",
    "additives_links.drop(additives_links[additives_links.value < threshold].index, inplace = True)\n",
    "force_directed_graph_['links'] = additives_links.to_dict('records')\n",
    "\n",
    "s = set()\n",
    "for link in force_directed_graph_['links']:\n",
    "    s.add(link['source'])\n",
    "    s.add(link['target'])\n",
    "force_directed_graph_['nodes'] = [{ 'id': n, 'group': i } for i, n in enumerate(s)]\n",
    "\n",
    "with open('force_directed_graph_additives.json', 'w') as json_file:\n",
    "    json.dump(force_directed_graph_, json_file, indent=4)"
   ]
  }
 ],
 "metadata": {
  "kernelspec": {
   "display_name": "Python 3",
   "language": "python",
   "name": "python3"
  },
  "language_info": {
   "codemirror_mode": {
    "name": "ipython",
    "version": 3
   },
   "file_extension": ".py",
   "mimetype": "text/x-python",
   "name": "python",
   "nbconvert_exporter": "python",
   "pygments_lexer": "ipython3",
   "version": "3.11.2"
  },
  "orig_nbformat": 4
 },
 "nbformat": 4,
 "nbformat_minor": 2
}
