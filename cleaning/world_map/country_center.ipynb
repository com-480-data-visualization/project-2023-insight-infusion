{
 "cells": [
  {
   "attachments": {},
   "cell_type": "markdown",
   "metadata": {},
   "source": [
    "# Calculate the a center position for each country"
   ]
  },
  {
   "cell_type": "code",
   "execution_count": 1,
   "metadata": {},
   "outputs": [],
   "source": [
    "from shapely.geometry import Polygon\n",
    "import json"
   ]
  },
  {
   "cell_type": "code",
   "execution_count": null,
   "metadata": {},
   "outputs": [],
   "source": [
    "ROOT_PATH = '.'"
   ]
  },
  {
   "cell_type": "code",
   "execution_count": 2,
   "metadata": {},
   "outputs": [],
   "source": [
    "# assuming geojson_data is your list of geojson features\n",
    "with open(f'{ROOT_PATH}/world.geojson', 'r') as f:\n",
    "    geojson_data = json.load(f)"
   ]
  },
  {
   "cell_type": "code",
   "execution_count": 5,
   "metadata": {},
   "outputs": [],
   "source": [
    "from operator import itemgetter\n",
    "centroid_dict = {}\n",
    "for country in geojson_data['features']:\n",
    "    name = country[\"properties\"][\"name\"]\n",
    "    type = country[\"geometry\"][\"type\"]\n",
    "    if type == 'Polygon':\n",
    "      coordinates = country[\"geometry\"][\"coordinates\"][0]\n",
    "    elif type == 'MultiPolygon':\n",
    "      # select the polygon which has the most number of points\n",
    "      lengths = [len(x[0]) for x in country[\"geometry\"][\"coordinates\"]]\n",
    "      index, element = max(enumerate(lengths), key=itemgetter(1))\n",
    "      \n",
    "      coordinates = country[\"geometry\"][\"coordinates\"][index][0]\n",
    "    else:\n",
    "      print(\"Error: \", name)\n",
    "      continue\n",
    "    polygon = Polygon(coordinates)\n",
    "    center = polygon.representative_point()\n",
    "    name = name.lower().capitalize()\n",
    "    centroid_dict[name] = (center.x, center.y)"
   ]
  },
  {
   "cell_type": "code",
   "execution_count": 6,
   "metadata": {},
   "outputs": [
    {
     "name": "stdout",
     "output_type": "stream",
     "text": [
      "dict_keys(['Afghanistan', 'Angola', 'Albania', 'United arab emirates', 'Argentina', 'Armenia', 'Antarctica', 'French southern and antarctic lands', 'Australia', 'Austria', 'Azerbaijan', 'Burundi', 'Belgium', 'Benin', 'Burkina faso', 'Bangladesh', 'Bulgaria', 'The bahamas', 'Bosnia and herzegovina', 'Belarus', 'Belize', 'Bolivia', 'Brazil', 'Brunei', 'Bhutan', 'Botswana', 'Central african republic', 'Canada', 'Switzerland', 'Chile', 'China', 'Ivory coast', 'Cameroon', 'Democratic republic of the congo', 'Republic of the congo', 'Colombia', 'Costa rica', 'Cuba', 'Northern cyprus', 'Cyprus', 'Czech republic', 'Germany', 'Djibouti', 'Denmark', 'Dominican republic', 'Algeria', 'Ecuador', 'Egypt', 'Eritrea', 'Spain', 'Estonia', 'Ethiopia', 'Finland', 'Fiji', 'Falkland islands', 'France', 'Gabon', 'England', 'Georgia', 'Ghana', 'Guinea', 'Gambia', 'Guinea bissau', 'Equatorial guinea', 'Greece', 'Greenland', 'Guatemala', 'Guyana', 'Honduras', 'Croatia', 'Haiti', 'Hungary', 'Indonesia', 'India', 'Ireland', 'Iran', 'Iraq', 'Iceland', 'Israel', 'Italy', 'Jamaica', 'Jordan', 'Japan', 'Kazakhstan', 'Kenya', 'Kyrgyzstan', 'Cambodia', 'South korea', 'Kosovo', 'Kuwait', 'Laos', 'Lebanon', 'Liberia', 'Libya', 'Sri lanka', 'Lesotho', 'Lithuania', 'Luxembourg', 'Latvia', 'Morocco', 'Moldova', 'Madagascar', 'Mexico', 'Macedonia', 'Mali', 'Myanmar', 'Montenegro', 'Mongolia', 'Mozambique', 'Mauritania', 'Malawi', 'Malaysia', 'Namibia', 'New caledonia', 'Niger', 'Nigeria', 'Nicaragua', 'Netherlands', 'Norway', 'Nepal', 'New zealand', 'Oman', 'Pakistan', 'Panama', 'Peru', 'Philippines', 'Papua new guinea', 'Poland', 'Puerto rico', 'North korea', 'Portugal', 'Paraguay', 'Qatar', 'Romania', 'Russia', 'Rwanda', 'Western sahara', 'Saudi arabia', 'Sudan', 'South sudan', 'Senegal', 'Solomon islands', 'Sierra leone', 'El salvador', 'Somaliland', 'Somalia', 'Republic of serbia', 'Suriname', 'Slovakia', 'Slovenia', 'Sweden', 'Swaziland', 'Syria', 'Chad', 'Togo', 'Thailand', 'Tajikistan', 'Turkmenistan', 'East timor', 'Trinidad and tobago', 'Tunisia', 'Turkey', 'Taiwan', 'United republic of tanzania', 'Uganda', 'Ukraine', 'Uruguay', 'Usa', 'Uzbekistan', 'Venezuela', 'Vietnam', 'Vanuatu', 'West bank', 'Yemen', 'South africa', 'Zambia', 'Zimbabwe'])\n"
     ]
    }
   ],
   "source": [
    "print(centroid_dict.keys())"
   ]
  },
  {
   "cell_type": "code",
   "execution_count": 7,
   "metadata": {},
   "outputs": [],
   "source": [
    "with open(f'{ROOT_PATH}/country_center.json', 'w') as f:\n",
    "    json.dump(centroid_dict, f)"
   ]
  }
 ],
 "metadata": {
  "kernelspec": {
   "display_name": "Python 3",
   "language": "python",
   "name": "python3"
  },
  "language_info": {
   "codemirror_mode": {
    "name": "ipython",
    "version": 3
   },
   "file_extension": ".py",
   "mimetype": "text/x-python",
   "name": "python",
   "nbconvert_exporter": "python",
   "pygments_lexer": "ipython3",
   "version": "3.7.8"
  },
  "orig_nbformat": 4
 },
 "nbformat": 4,
 "nbformat_minor": 2
}
